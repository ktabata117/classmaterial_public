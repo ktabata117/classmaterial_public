{
  "nbformat": 4,
  "nbformat_minor": 0,
  "metadata": {
    "colab": {
      "name": "test1.ipynb",
      "provenance": [],
      "collapsed_sections": [],
      "authorship_tag": "ABX9TyPly2vE9YNPm7lsnm6+XGz3",
      "include_colab_link": true
    },
    "kernelspec": {
      "name": "python3",
      "display_name": "Python 3"
    }
  },
  "cells": [
    {
      "cell_type": "markdown",
      "metadata": {
        "id": "view-in-github",
        "colab_type": "text"
      },
      "source": [
        "<a href=\"https://colab.research.google.com/github/ktabata117/classmaterial_public/blob/master/test1.ipynb\" target=\"_parent\"><img src=\"https://colab.research.google.com/assets/colab-badge.svg\" alt=\"Open In Colab\"/></a>"
      ]
    },
    {
      "cell_type": "code",
      "metadata": {
        "id": "2C4TldmwMJMt",
        "colab": {
          "base_uri": "https://localhost:8080/"
        },
        "outputId": "22170730-6666-4831-b595-4cf9c760afb6"
      },
      "source": [
        "import os\n",
        "url =\"C:\\\\Users\\Tabata\\aichi_class\"\n",
        "anime_csv= os.path.join(url, \"minwage.csv\")\n",
        "print(anime_csv)\n"
      ],
      "execution_count": null,
      "outputs": [
        {
          "output_type": "stream",
          "text": [
            "C:\\Users\\Tabata\u0007ichi_class/minwage.csv\n"
          ],
          "name": "stdout"
        }
      ]
    },
    {
      "cell_type": "code",
      "metadata": {
        "id": "OryGCBMQ7ykv"
      },
      "source": [
        "import pandas as pd "
      ],
      "execution_count": null,
      "outputs": []
    },
    {
      "cell_type": "code",
      "metadata": {
        "id": "QAkgN635P7-0"
      },
      "source": [
        "import numpy as np\n",
        "import pandas as pd\n",
        "\n"
      ],
      "execution_count": null,
      "outputs": []
    },
    {
      "cell_type": "code",
      "metadata": {
        "id": "wqHjwstVeXYt"
      },
      "source": [
        "# 乱数のシードを設定\n",
        "import random\n",
        "import numpy as np\n",
        "import pandas as pd\n"
      ],
      "execution_count": null,
      "outputs": []
    },
    {
      "cell_type": "code",
      "metadata": {
        "colab": {
          "base_uri": "https://localhost:8080/",
          "height": 216
        },
        "id": "FbIvmk8N0Adp",
        "outputId": "25807325-d233-41e4-e79f-8cebe994aef6"
      },
      "source": [
        "import urllib.request \n",
        "import matplotlib.pyplot as plt\n",
        "%matplotlib inline\n",
        "import sklearn #機械学習のライブラリ\n",
        "from sklearn.decomposition import PCA #主成分分析器\n",
        "url = \"https://raw.githubusercontent.com/maskot1977/ipython_notebook/master/toydata/wine.txt\"\n",
        "('wine.txt', <http.client.HTTPMessage at 0x11d029198>)\n",
        "df = pd.read_csv(\"wine.txt\", sep=\"\\t\", index_col=0)\n",
        "df.head()\n"
      ],
      "execution_count": null,
      "outputs": [
        {
          "output_type": "execute_result",
          "data": {
            "text/html": [
              "<div>\n",
              "<style scoped>\n",
              "    .dataframe tbody tr th:only-of-type {\n",
              "        vertical-align: middle;\n",
              "    }\n",
              "\n",
              "    .dataframe tbody tr th {\n",
              "        vertical-align: top;\n",
              "    }\n",
              "\n",
              "    .dataframe thead th {\n",
              "        text-align: right;\n",
              "    }\n",
              "</style>\n",
              "<table border=\"1\" class=\"dataframe\">\n",
              "  <thead>\n",
              "    <tr style=\"text-align: right;\">\n",
              "      <th></th>\n",
              "    </tr>\n",
              "    <tr>\n",
              "      <th>&lt;!DOCTYPE html&gt;</th>\n",
              "    </tr>\n",
              "  </thead>\n",
              "  <tbody>\n",
              "    <tr>\n",
              "      <th>&lt;html lang=\"en\"&gt;</th>\n",
              "    </tr>\n",
              "    <tr>\n",
              "      <th>&lt;head&gt;</th>\n",
              "    </tr>\n",
              "    <tr>\n",
              "      <th>&lt;meta charset=\"utf-8\"&gt;</th>\n",
              "    </tr>\n",
              "    <tr>\n",
              "      <th>&lt;link rel=\"dns-prefetch\" href=\"https://github.githubassets.com\"&gt;</th>\n",
              "    </tr>\n",
              "    <tr>\n",
              "      <th>&lt;link rel=\"dns-prefetch\" href=\"https://avatars0.githubusercontent.com\"&gt;</th>\n",
              "    </tr>\n",
              "  </tbody>\n",
              "</table>\n",
              "</div>"
            ],
            "text/plain": [
              "Empty DataFrame\n",
              "Columns: []\n",
              "Index: [<html lang=\"en\">,   <head>,     <meta charset=\"utf-8\">,   <link rel=\"dns-prefetch\" href=\"https://github.githubassets.com\">,   <link rel=\"dns-prefetch\" href=\"https://avatars0.githubusercontent.com\">]"
            ]
          },
          "metadata": {
            "tags": []
          },
          "execution_count": 25
        }
      ]
    },
    {
      "cell_type": "code",
      "metadata": {
        "id": "exn9qZa4P8Tj",
        "colab": {
          "base_uri": "https://localhost:8080/",
          "height": 216
        },
        "outputId": "f7a4f634-9920-4beb-8ab5-c9179d2c8df9"
      },
      "source": [
        "import urllib.request \n",
        "import matplotlib.pyplot as plt\n",
        "%matplotlib inline\n",
        "import sklearn #機械学習のライブラリ\n",
        "from sklearn.decomposition import PCA #主成分分析器\n",
        "url = \"https://raw.githubusercontent.com/maskot1977/ipython_notebook/master/toydata/wine.txt\"\n",
        "\n",
        "df = pd.read_csv(\"wine.txt\", sep=\"\\t\", index_col=0)\n",
        "df.head()\n"
      ],
      "execution_count": null,
      "outputs": [
        {
          "output_type": "execute_result",
          "data": {
            "text/html": [
              "<div>\n",
              "<style scoped>\n",
              "    .dataframe tbody tr th:only-of-type {\n",
              "        vertical-align: middle;\n",
              "    }\n",
              "\n",
              "    .dataframe tbody tr th {\n",
              "        vertical-align: top;\n",
              "    }\n",
              "\n",
              "    .dataframe thead th {\n",
              "        text-align: right;\n",
              "    }\n",
              "</style>\n",
              "<table border=\"1\" class=\"dataframe\">\n",
              "  <thead>\n",
              "    <tr style=\"text-align: right;\">\n",
              "      <th></th>\n",
              "    </tr>\n",
              "    <tr>\n",
              "      <th>&lt;!DOCTYPE html&gt;</th>\n",
              "    </tr>\n",
              "  </thead>\n",
              "  <tbody>\n",
              "    <tr>\n",
              "      <th>&lt;html lang=\"en\"&gt;</th>\n",
              "    </tr>\n",
              "    <tr>\n",
              "      <th>&lt;head&gt;</th>\n",
              "    </tr>\n",
              "    <tr>\n",
              "      <th>&lt;meta charset=\"utf-8\"&gt;</th>\n",
              "    </tr>\n",
              "    <tr>\n",
              "      <th>&lt;link rel=\"dns-prefetch\" href=\"https://github.githubassets.com\"&gt;</th>\n",
              "    </tr>\n",
              "    <tr>\n",
              "      <th>&lt;link rel=\"dns-prefetch\" href=\"https://avatars0.githubusercontent.com\"&gt;</th>\n",
              "    </tr>\n",
              "  </tbody>\n",
              "</table>\n",
              "</div>"
            ],
            "text/plain": [
              "Empty DataFrame\n",
              "Columns: []\n",
              "Index: [<html lang=\"en\">,   <head>,     <meta charset=\"utf-8\">,   <link rel=\"dns-prefetch\" href=\"https://github.githubassets.com\">,   <link rel=\"dns-prefetch\" href=\"https://avatars0.githubusercontent.com\">]"
            ]
          },
          "metadata": {
            "tags": []
          },
          "execution_count": 24
        }
      ]
    },
    {
      "cell_type": "markdown",
      "metadata": {
        "id": "oZyLRThaQAID"
      },
      "source": [
        ""
      ]
    }
  ]
}