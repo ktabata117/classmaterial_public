{
  "nbformat": 4,
  "nbformat_minor": 0,
  "metadata": {
    "colab": {
      "name": "aidai_2.ipynb のコピー",
      "provenance": [],
      "collapsed_sections": [],
      "authorship_tag": "ABX9TyPadIfwr+UhbJfUO0eELYF9",
      "include_colab_link": true
    },
    "kernelspec": {
      "name": "python3",
      "display_name": "Python 3"
    },
    "language_info": {
      "name": "python"
    }
  },
  "cells": [
    {
      "cell_type": "markdown",
      "metadata": {
        "id": "view-in-github",
        "colab_type": "text"
      },
      "source": [
        "<a href=\"https://colab.research.google.com/github/ktabata117/classmaterial_public/blob/master/aidai_2_ipynb_%E3%81%AE%E3%82%B3%E3%83%94%E3%83%BC.ipynb\" target=\"_parent\"><img src=\"https://colab.research.google.com/assets/colab-badge.svg\" alt=\"Open In Colab\"/></a>"
      ]
    },
    {
      "cell_type": "markdown",
      "metadata": {
        "id": "FC7ddRiTupEH"
      },
      "source": [
        "第3回授業"
      ]
    },
    {
      "cell_type": "code",
      "metadata": {
        "colab": {
          "base_uri": "https://localhost:8080/"
        },
        "id": "mCtz5GjG6Q0j",
        "outputId": "67b48421-d201-4f90-c01a-2efd41c6f713"
      },
      "source": [
        "!pip install japanize-matplotlib"
      ],
      "execution_count": null,
      "outputs": [
        {
          "output_type": "stream",
          "text": [
            "Collecting japanize-matplotlib\n",
            "\u001b[?25l  Downloading https://files.pythonhosted.org/packages/aa/85/08a4b7fe8987582d99d9bb7ad0ff1ec75439359a7f9690a0dbf2dbf98b15/japanize-matplotlib-1.1.3.tar.gz (4.1MB)\n",
            "\u001b[K     |████████████████████████████████| 4.1MB 2.9MB/s \n",
            "\u001b[?25hRequirement already satisfied: matplotlib in /usr/local/lib/python3.7/dist-packages (from japanize-matplotlib) (3.2.2)\n",
            "Requirement already satisfied: python-dateutil>=2.1 in /usr/local/lib/python3.7/dist-packages (from matplotlib->japanize-matplotlib) (2.8.1)\n",
            "Requirement already satisfied: cycler>=0.10 in /usr/local/lib/python3.7/dist-packages (from matplotlib->japanize-matplotlib) (0.10.0)\n",
            "Requirement already satisfied: numpy>=1.11 in /usr/local/lib/python3.7/dist-packages (from matplotlib->japanize-matplotlib) (1.19.5)\n",
            "Requirement already satisfied: pyparsing!=2.0.4,!=2.1.2,!=2.1.6,>=2.0.1 in /usr/local/lib/python3.7/dist-packages (from matplotlib->japanize-matplotlib) (2.4.7)\n",
            "Requirement already satisfied: kiwisolver>=1.0.1 in /usr/local/lib/python3.7/dist-packages (from matplotlib->japanize-matplotlib) (1.3.1)\n",
            "Requirement already satisfied: six>=1.5 in /usr/local/lib/python3.7/dist-packages (from python-dateutil>=2.1->matplotlib->japanize-matplotlib) (1.15.0)\n",
            "Building wheels for collected packages: japanize-matplotlib\n",
            "  Building wheel for japanize-matplotlib (setup.py) ... \u001b[?25l\u001b[?25hdone\n",
            "  Created wheel for japanize-matplotlib: filename=japanize_matplotlib-1.1.3-cp37-none-any.whl size=4120276 sha256=f0b531dcc240c93149398cb6563971a967c3ea7bd0e405d9736cd350e3f10881\n",
            "  Stored in directory: /root/.cache/pip/wheels/b7/d9/a2/f907d50b32a2d2008ce5d691d30fb6569c2c93eefcfde55202\n",
            "Successfully built japanize-matplotlib\n",
            "Installing collected packages: japanize-matplotlib\n",
            "Successfully installed japanize-matplotlib-1.1.3\n"
          ],
          "name": "stdout"
        }
      ]
    },
    {
      "cell_type": "markdown",
      "metadata": {
        "id": "s_N8R_a9xFcQ"
      },
      "source": [
        "# グラフに日本語フォントで出力するには\n",
        "\n",
        "一番簡単なのは，japanize-matplotlib を使う方法です．\n",
        "\n",
        "### インストール\n",
        "\n",
        "~~~ \n",
        "!pip install japanize-matplotlib\n",
        "~~~\n",
        "\n",
        "### 使い方\n",
        "\n",
        "~~~\n",
        "import matplotlib.pyplot as plt\n",
        "import japanize_matplotlib \n",
        "~~~\n",
        "\n",
        "pip インストールは japanize-matplotlib とハイフンなのに，import はアンダースコアであることに注意\n"
      ]
    },
    {
      "cell_type": "code",
      "metadata": {
        "id": "Jkcw2iAvAou5"
      },
      "source": [
        "import matplotlib.pyplot as plt\n",
        "import japanize_matplotlib "
      ],
      "execution_count": null,
      "outputs": []
    },
    {
      "cell_type": "markdown",
      "metadata": {
        "id": "OSulRlYcufnt"
      },
      "source": [
        "*でわ、散布図を書いてみよう。*"
      ]
    },
    {
      "cell_type": "code",
      "metadata": {
        "id": "_T5Ussy9kNow"
      },
      "source": [
        "import numpy as np\n",
        "import pandas as pd"
      ],
      "execution_count": null,
      "outputs": []
    },
    {
      "cell_type": "code",
      "metadata": {
        "colab": {
          "base_uri": "https://localhost:8080/",
          "height": 359
        },
        "id": "-YO09qEamsVw",
        "outputId": "286f8b2c-4747-4389-e157-31754625132a"
      },
      "source": [
        "soukan=pd.read_csv('/content/sample_data/soukan.csv')\n",
        "soukan"
      ],
      "execution_count": null,
      "outputs": [
        {
          "output_type": "execute_result",
          "data": {
            "text/html": [
              "<div>\n",
              "<style scoped>\n",
              "    .dataframe tbody tr th:only-of-type {\n",
              "        vertical-align: middle;\n",
              "    }\n",
              "\n",
              "    .dataframe tbody tr th {\n",
              "        vertical-align: top;\n",
              "    }\n",
              "\n",
              "    .dataframe thead th {\n",
              "        text-align: right;\n",
              "    }\n",
              "</style>\n",
              "<table border=\"1\" class=\"dataframe\">\n",
              "  <thead>\n",
              "    <tr style=\"text-align: right;\">\n",
              "      <th></th>\n",
              "      <th>社員番号</th>\n",
              "      <th>給料</th>\n",
              "      <th>残業時間</th>\n",
              "    </tr>\n",
              "  </thead>\n",
              "  <tbody>\n",
              "    <tr>\n",
              "      <th>0</th>\n",
              "      <td>1</td>\n",
              "      <td>30</td>\n",
              "      <td>22</td>\n",
              "    </tr>\n",
              "    <tr>\n",
              "      <th>1</th>\n",
              "      <td>2</td>\n",
              "      <td>26</td>\n",
              "      <td>15</td>\n",
              "    </tr>\n",
              "    <tr>\n",
              "      <th>2</th>\n",
              "      <td>3</td>\n",
              "      <td>40</td>\n",
              "      <td>26</td>\n",
              "    </tr>\n",
              "    <tr>\n",
              "      <th>3</th>\n",
              "      <td>4</td>\n",
              "      <td>28</td>\n",
              "      <td>12</td>\n",
              "    </tr>\n",
              "    <tr>\n",
              "      <th>4</th>\n",
              "      <td>5</td>\n",
              "      <td>26</td>\n",
              "      <td>9</td>\n",
              "    </tr>\n",
              "    <tr>\n",
              "      <th>5</th>\n",
              "      <td>6</td>\n",
              "      <td>35</td>\n",
              "      <td>20</td>\n",
              "    </tr>\n",
              "    <tr>\n",
              "      <th>6</th>\n",
              "      <td>7</td>\n",
              "      <td>20</td>\n",
              "      <td>15</td>\n",
              "    </tr>\n",
              "    <tr>\n",
              "      <th>7</th>\n",
              "      <td>8</td>\n",
              "      <td>60</td>\n",
              "      <td>30</td>\n",
              "    </tr>\n",
              "    <tr>\n",
              "      <th>8</th>\n",
              "      <td>9</td>\n",
              "      <td>15</td>\n",
              "      <td>13</td>\n",
              "    </tr>\n",
              "    <tr>\n",
              "      <th>9</th>\n",
              "      <td>10</td>\n",
              "      <td>20</td>\n",
              "      <td>8</td>\n",
              "    </tr>\n",
              "  </tbody>\n",
              "</table>\n",
              "</div>"
            ],
            "text/plain": [
              "   社員番号  給料  残業時間\n",
              "0     1  30    22\n",
              "1     2  26    15\n",
              "2     3  40    26\n",
              "3     4  28    12\n",
              "4     5  26     9\n",
              "5     6  35    20\n",
              "6     7  20    15\n",
              "7     8  60    30\n",
              "8     9  15    13\n",
              "9    10  20     8"
            ]
          },
          "metadata": {
            "tags": []
          },
          "execution_count": 54
        }
      ]
    },
    {
      "cell_type": "markdown",
      "metadata": {
        "id": "YBJgv1pJ9pnq"
      },
      "source": [
        "# 新しいセクション"
      ]
    },
    {
      "cell_type": "code",
      "metadata": {
        "id": "GnGlSi5NnSU3"
      },
      "source": [
        "pay =np.array(soukan['給料'])\n",
        "zangyou= np.array(soukan['残業時間'])"
      ],
      "execution_count": null,
      "outputs": []
    },
    {
      "cell_type": "code",
      "metadata": {
        "colab": {
          "base_uri": "https://localhost:8080/"
        },
        "id": "uKlUXc7Ent7q",
        "outputId": "fa95a725-e6c7-48c2-bae0-7f641dc14f35"
      },
      "source": [
        "pay"
      ],
      "execution_count": null,
      "outputs": [
        {
          "output_type": "execute_result",
          "data": {
            "text/plain": [
              "array([30, 26, 40, 28, 26, 35, 20, 60, 15, 20])"
            ]
          },
          "metadata": {
            "tags": []
          },
          "execution_count": 56
        }
      ]
    },
    {
      "cell_type": "code",
      "metadata": {
        "colab": {
          "base_uri": "https://localhost:8080/"
        },
        "id": "mr3rGiBbnyrf",
        "outputId": "70d2e3ec-de2a-43f8-9572-de51eee908b8"
      },
      "source": [
        "zangyou"
      ],
      "execution_count": null,
      "outputs": [
        {
          "output_type": "execute_result",
          "data": {
            "text/plain": [
              "array([22, 15, 26, 12,  9, 20, 15, 30, 13,  8])"
            ]
          },
          "metadata": {
            "tags": []
          },
          "execution_count": 57
        }
      ]
    },
    {
      "cell_type": "markdown",
      "metadata": {
        "id": "kWneen1FoMPK"
      },
      "source": [
        "図を書くライブラリーはmatplotlib"
      ]
    },
    {
      "cell_type": "code",
      "metadata": {
        "colab": {
          "base_uri": "https://localhost:8080/",
          "height": 495
        },
        "id": "B-koGLrJobaZ",
        "outputId": "c58b2d7e-d34c-48b5-8823-a482c5b9742e"
      },
      "source": [
        "fig =plt.figure(figsize=(8,8))\n",
        "ax=fig.add_subplot(111)\n",
        "ax.scatter(pay,zangyou)\n",
        "ax.set_xlabel('給料')\n",
        "ax.set_ylabel('残業')\n",
        "plt.show()"
      ],
      "execution_count": null,
      "outputs": [
        {
          "output_type": "display_data",
          "data": {
            "image/png": "[encoded data removed]",
            "text/plain": [
              "<Figure size 576x576 with 1 Axes>"
            ]
          },
          "metadata": {
            "tags": [],
            "needs_background": "light"
          }
        }
      ]
    },
    {
      "cell_type": "markdown",
      "metadata": {
        "id": "XYxlyR2OqUix"
      },
      "source": [
        "文字化けしている。今の所、修正方法分からない。仕方ないので、英語表記"
      ]
    },
    {
      "cell_type": "code",
      "metadata": {
        "colab": {
          "base_uri": "https://localhost:8080/",
          "height": 240
        },
        "id": "g1YnRXtfuFis",
        "outputId": "65ffac16-d44e-427a-bb58-1700edd83533"
      },
      "source": [
        "fig =plt.figure(figsize=(8,8))\n",
        "ax=fig.add_subplot(111)\n",
        "ax.scatter(pay,zangyou)\n",
        "ax.set_xlabel('PAY')\n",
        "ax.set_ylabel('overwork_hours')\n",
        "plt.show()"
      ],
      "execution_count": null,
      "outputs": [
        {
          "output_type": "error",
          "ename": "NameError",
          "evalue": "ignored",
          "traceback": [
            "\u001b[0;31m---------------------------------------------------------------------------\u001b[0m",
            "\u001b[0;31mNameError\u001b[0m                                 Traceback (most recent call last)",
            "\u001b[0;32m<ipython-input-67-03a7ede90a76>\u001b[0m in \u001b[0;36m<module>\u001b[0;34m()\u001b[0m\n\u001b[0;32m----> 1\u001b[0;31m \u001b[0mfig\u001b[0m \u001b[0;34m=\u001b[0m\u001b[0mplt\u001b[0m\u001b[0;34m.\u001b[0m\u001b[0mfigure\u001b[0m\u001b[0;34m(\u001b[0m\u001b[0mfigsize\u001b[0m\u001b[0;34m=\u001b[0m\u001b[0;34m(\u001b[0m\u001b[0;36m8\u001b[0m\u001b[0;34m,\u001b[0m\u001b[0;36m8\u001b[0m\u001b[0;34m)\u001b[0m\u001b[0;34m)\u001b[0m\u001b[0;34m\u001b[0m\u001b[0;34m\u001b[0m\u001b[0m\n\u001b[0m\u001b[1;32m      2\u001b[0m \u001b[0max\u001b[0m\u001b[0;34m=\u001b[0m\u001b[0mfig\u001b[0m\u001b[0;34m.\u001b[0m\u001b[0madd_subplot\u001b[0m\u001b[0;34m(\u001b[0m\u001b[0;36m111\u001b[0m\u001b[0;34m)\u001b[0m\u001b[0;34m\u001b[0m\u001b[0;34m\u001b[0m\u001b[0m\n\u001b[1;32m      3\u001b[0m \u001b[0max\u001b[0m\u001b[0;34m.\u001b[0m\u001b[0mscatter\u001b[0m\u001b[0;34m(\u001b[0m\u001b[0mpay\u001b[0m\u001b[0;34m,\u001b[0m\u001b[0mzangyou\u001b[0m\u001b[0;34m)\u001b[0m\u001b[0;34m\u001b[0m\u001b[0;34m\u001b[0m\u001b[0m\n\u001b[1;32m      4\u001b[0m \u001b[0max\u001b[0m\u001b[0;34m.\u001b[0m\u001b[0mset_xlabel\u001b[0m\u001b[0;34m(\u001b[0m\u001b[0;34m'PAY'\u001b[0m\u001b[0;34m)\u001b[0m\u001b[0;34m\u001b[0m\u001b[0;34m\u001b[0m\u001b[0m\n\u001b[1;32m      5\u001b[0m \u001b[0max\u001b[0m\u001b[0;34m.\u001b[0m\u001b[0mset_ylabel\u001b[0m\u001b[0;34m(\u001b[0m\u001b[0;34m'overwork_hours'\u001b[0m\u001b[0;34m)\u001b[0m\u001b[0;34m\u001b[0m\u001b[0;34m\u001b[0m\u001b[0m\n",
            "\u001b[0;31mNameError\u001b[0m: name 'plt' is not defined"
          ]
        }
      ]
    },
    {
      "cell_type": "markdown",
      "metadata": {
        "id": "_HHOE00lubdc"
      },
      "source": [
        "相関係数を求めてみる。相関係数について注意すること。原因と結果を示しているわけではない。\n"
      ]
    },
    {
      "cell_type": "code",
      "metadata": {
        "colab": {
          "base_uri": "https://localhost:8080/"
        },
        "id": "Ruag2ixFvDHj",
        "outputId": "faa39960-cd8f-4a26-e4bf-165d253e5400"
      },
      "source": [
        "np.corrcoef(pay, zangyou)"
      ],
      "execution_count": null,
      "outputs": [
        {
          "output_type": "execute_result",
          "data": {
            "text/plain": [
              "array([[1.        , 0.84836489],\n",
              "       [0.84836489, 1.        ]])"
            ]
          },
          "metadata": {
            "tags": []
          },
          "execution_count": 27
        }
      ]
    },
    {
      "cell_type": "code",
      "metadata": {
        "colab": {
          "base_uri": "https://localhost:8080/",
          "height": 421
        },
        "id": "xFtQX4U41031",
        "outputId": "5038b8a7-3efa-4cdc-e668-5b9c259b6cc5"
      },
      "source": [
        "k_i=pd.read_csv('/content/sample_data/kion_ice.csv')\n",
        "k_i"
      ],
      "execution_count": null,
      "outputs": [
        {
          "output_type": "execute_result",
          "data": {
            "text/html": [
              "<div>\n",
              "<style scoped>\n",
              "    .dataframe tbody tr th:only-of-type {\n",
              "        vertical-align: middle;\n",
              "    }\n",
              "\n",
              "    .dataframe tbody tr th {\n",
              "        vertical-align: top;\n",
              "    }\n",
              "\n",
              "    .dataframe thead th {\n",
              "        text-align: right;\n",
              "    }\n",
              "</style>\n",
              "<table border=\"1\" class=\"dataframe\">\n",
              "  <thead>\n",
              "    <tr style=\"text-align: right;\">\n",
              "      <th></th>\n",
              "      <th>月</th>\n",
              "      <th>気温</th>\n",
              "      <th>アイスクリーム</th>\n",
              "    </tr>\n",
              "  </thead>\n",
              "  <tbody>\n",
              "    <tr>\n",
              "      <th>0</th>\n",
              "      <td>1</td>\n",
              "      <td>10.6</td>\n",
              "      <td>464</td>\n",
              "    </tr>\n",
              "    <tr>\n",
              "      <th>1</th>\n",
              "      <td>2</td>\n",
              "      <td>12.2</td>\n",
              "      <td>397</td>\n",
              "    </tr>\n",
              "    <tr>\n",
              "      <th>2</th>\n",
              "      <td>3</td>\n",
              "      <td>14.9</td>\n",
              "      <td>493</td>\n",
              "    </tr>\n",
              "    <tr>\n",
              "      <th>3</th>\n",
              "      <td>4</td>\n",
              "      <td>20.3</td>\n",
              "      <td>617</td>\n",
              "    </tr>\n",
              "    <tr>\n",
              "      <th>4</th>\n",
              "      <td>5</td>\n",
              "      <td>25.2</td>\n",
              "      <td>890</td>\n",
              "    </tr>\n",
              "    <tr>\n",
              "      <th>5</th>\n",
              "      <td>6</td>\n",
              "      <td>26.3</td>\n",
              "      <td>883</td>\n",
              "    </tr>\n",
              "    <tr>\n",
              "      <th>6</th>\n",
              "      <td>7</td>\n",
              "      <td>29.7</td>\n",
              "      <td>1292</td>\n",
              "    </tr>\n",
              "    <tr>\n",
              "      <th>7</th>\n",
              "      <td>8</td>\n",
              "      <td>31.6</td>\n",
              "      <td>1387</td>\n",
              "    </tr>\n",
              "    <tr>\n",
              "      <th>8</th>\n",
              "      <td>9</td>\n",
              "      <td>27.7</td>\n",
              "      <td>843</td>\n",
              "    </tr>\n",
              "    <tr>\n",
              "      <th>9</th>\n",
              "      <td>10</td>\n",
              "      <td>22.6</td>\n",
              "      <td>621</td>\n",
              "    </tr>\n",
              "    <tr>\n",
              "      <th>10</th>\n",
              "      <td>11</td>\n",
              "      <td>15.5</td>\n",
              "      <td>459</td>\n",
              "    </tr>\n",
              "    <tr>\n",
              "      <th>11</th>\n",
              "      <td>12</td>\n",
              "      <td>13.8</td>\n",
              "      <td>561</td>\n",
              "    </tr>\n",
              "  </tbody>\n",
              "</table>\n",
              "</div>"
            ],
            "text/plain": [
              "     月    気温  アイスクリーム\n",
              "0    1  10.6      464\n",
              "1    2  12.2      397\n",
              "2    3  14.9      493\n",
              "3    4  20.3      617\n",
              "4    5  25.2      890\n",
              "5    6  26.3      883\n",
              "6    7  29.7     1292\n",
              "7    8  31.6     1387\n",
              "8    9  27.7      843\n",
              "9   10  22.6      621\n",
              "10  11  15.5      459\n",
              "11  12  13.8      561"
            ]
          },
          "metadata": {
            "tags": []
          },
          "execution_count": 87
        }
      ]
    },
    {
      "cell_type": "code",
      "metadata": {
        "id": "YSCKj-Yc1lKc",
        "colab": {
          "base_uri": "https://localhost:8080/",
          "height": 188
        },
        "outputId": "60ecc921-74c9-4993-d6ed-72e359f5025e"
      },
      "source": [
        "x=np.array(k_i['気温'])\n",
        "y=np.array(k_i['アイスクリーム'])"
      ],
      "execution_count": null,
      "outputs": [
        {
          "output_type": "error",
          "ename": "NameError",
          "evalue": "ignored",
          "traceback": [
            "\u001b[0;31m---------------------------------------------------------------------------\u001b[0m",
            "\u001b[0;31mNameError\u001b[0m                                 Traceback (most recent call last)",
            "\u001b[0;32m<ipython-input-59-9816b4317558>\u001b[0m in \u001b[0;36m<module>\u001b[0;34m()\u001b[0m\n\u001b[0;32m----> 1\u001b[0;31m \u001b[0mx\u001b[0m\u001b[0;34m=\u001b[0m\u001b[0mnp\u001b[0m\u001b[0;34m.\u001b[0m\u001b[0marray\u001b[0m\u001b[0;34m(\u001b[0m\u001b[0mk_i\u001b[0m\u001b[0;34m[\u001b[0m\u001b[0;34m'気温'\u001b[0m\u001b[0;34m]\u001b[0m\u001b[0;34m)\u001b[0m\u001b[0;34m\u001b[0m\u001b[0;34m\u001b[0m\u001b[0m\n\u001b[0m\u001b[1;32m      2\u001b[0m \u001b[0my\u001b[0m\u001b[0;34m=\u001b[0m\u001b[0mnp\u001b[0m\u001b[0;34m.\u001b[0m\u001b[0marray\u001b[0m\u001b[0;34m(\u001b[0m\u001b[0mk_i\u001b[0m\u001b[0;34m[\u001b[0m\u001b[0;34m'アイスクリーム'\u001b[0m\u001b[0;34m]\u001b[0m\u001b[0;34m)\u001b[0m\u001b[0;34m\u001b[0m\u001b[0;34m\u001b[0m\u001b[0m\n",
            "\u001b[0;31mNameError\u001b[0m: name 'k_i' is not defined"
          ]
        }
      ]
    },
    {
      "cell_type": "code",
      "metadata": {
        "colab": {
          "base_uri": "https://localhost:8080/",
          "height": 497
        },
        "id": "ZcEgO6og59FM",
        "outputId": "7f6efeee-dcac-4b78-b0ba-bb346bf1bf08"
      },
      "source": [
        "fig =plt.figure(figsize=(8,8))\n",
        "ax=fig.add_subplot(111)\n",
        "ax.scatter(x,y)\n",
        "ax.set_xlabel('temperature')\n",
        "ax.set_ylabel('icecream')\n",
        "plt.show()"
      ],
      "execution_count": null,
      "outputs": [
        {
          "output_type": "display_data",
          "data": {
            "image/png": "[encoded data removed]",
            "text/plain": [
              "<Figure size 576x576 with 1 Axes>"
            ]
          },
          "metadata": {
            "tags": [],
            "needs_background": "light"
          }
        }
      ]
    },
    {
      "cell_type": "markdown",
      "metadata": {
        "id": "dWCdnRgaO7_O"
      },
      "source": [
        "ここで議論を、飛躍というか、第一の最終段階に。最小二乗法を実施してみましょう。Ordinary Least Squares"
      ]
    },
    {
      "cell_type": "code",
      "metadata": {
        "id": "InhxKAdVOdtn"
      },
      "source": [
        "import statsmodels.api as sm"
      ],
      "execution_count": null,
      "outputs": []
    },
    {
      "cell_type": "code",
      "metadata": {
        "colab": {
          "base_uri": "https://localhost:8080/"
        },
        "id": "S4pDaZgKRQXk",
        "outputId": "f71fad1f-42e0-4ca7-ca9d-eb443d553d4a"
      },
      "source": [
        "model =sm.OLS(y,sm.add_constant(x))\n",
        "result = model.fit()\n",
        "print(result.summary())"
      ],
      "execution_count": null,
      "outputs": [
        {
          "output_type": "stream",
          "text": [
            "                            OLS Regression Results                            \n",
            "==============================================================================\n",
            "Dep. Variable:                      y   R-squared:                       0.829\n",
            "Model:                            OLS   Adj. R-squared:                  0.812\n",
            "Method:                 Least Squares   F-statistic:                     48.46\n",
            "Date:                Mon, 10 May 2021   Prob (F-statistic):           3.89e-05\n",
            "Time:                        15:37:09   Log-Likelihood:                -75.369\n",
            "No. Observations:                  12   AIC:                             154.7\n",
            "Df Residuals:                      10   BIC:                             155.7\n",
            "Df Model:                           1                                         \n",
            "Covariance Type:            nonrobust                                         \n",
            "==============================================================================\n",
            "                 coef    std err          t      P>|t|      [0.025      0.975]\n",
            "------------------------------------------------------------------------------\n",
            "const       -107.0571    128.673     -0.832      0.425    -393.759     179.645\n",
            "x1            40.7016      5.847      6.961      0.000      27.674      53.730\n",
            "==============================================================================\n",
            "Omnibus:                        1.129   Durbin-Watson:                   1.509\n",
            "Prob(Omnibus):                  0.569   Jarque-Bera (JB):                0.744\n",
            "Skew:                           0.204   Prob(JB):                        0.689\n",
            "Kurtosis:                       1.850   Cond. No.                         69.4\n",
            "==============================================================================\n",
            "\n",
            "Warnings:\n",
            "[1] Standard Errors assume that the covariance matrix of the errors is correctly specified.\n"
          ],
          "name": "stdout"
        },
        {
          "output_type": "stream",
          "text": [
            "/usr/local/lib/python3.7/dist-packages/scipy/stats/stats.py:1535: UserWarning: kurtosistest only valid for n>=20 ... continuing anyway, n=12\n",
            "  \"anyway, n=%i\" % int(n))\n"
          ],
          "name": "stderr"
        }
      ]
    },
    {
      "cell_type": "markdown",
      "metadata": {
        "id": "Am8hyBAk8Qpi"
      },
      "source": [
        ""
      ]
    },
    {
      "cell_type": "code",
      "metadata": {
        "id": "EL7FFmQ33KlW"
      },
      "source": [
        "model = sm.ols(formula=reg, data=k_i)"
      ],
      "execution_count": null,
      "outputs": []
    },
    {
      "cell_type": "code",
      "metadata": {
        "colab": {
          "base_uri": "https://localhost:8080/"
        },
        "id": "lfnuHyYE3gsy",
        "outputId": "19fa8892-1ecb-4af7-deb7-591d897881a2"
      },
      "source": [
        "result = model.fit()\n",
        "result"
      ],
      "execution_count": null,
      "outputs": [
        {
          "output_type": "execute_result",
          "data": {
            "text/plain": [
              "<statsmodels.regression.linear_model.RegressionResultsWrapper at 0x7fe114736250>"
            ]
          },
          "metadata": {
            "tags": []
          },
          "execution_count": 108
        }
      ]
    },
    {
      "cell_type": "markdown",
      "metadata": {
        "id": "3F8ouTazsLP2"
      },
      "source": [
        "第一回　社会データ分析　オンディマンド大会"
      ]
    },
    {
      "cell_type": "markdown",
      "metadata": {
        "id": "kOychTZf3sVP"
      },
      "source": [
        "まず、ライブラリをインストールしますね。NUMPYとpandas そして重回帰用のstatsmodels.apiです。"
      ]
    },
    {
      "cell_type": "markdown",
      "metadata": {
        "id": "x-agtVSP3rvd"
      },
      "source": [
        ""
      ]
    },
    {
      "cell_type": "code",
      "metadata": {
        "id": "c0Geyb4hsCGn"
      },
      "source": [
        "import numpy as np\n",
        "import pandas as pd"
      ],
      "execution_count": null,
      "outputs": []
    },
    {
      "cell_type": "code",
      "metadata": {
        "colab": {
          "base_uri": "https://localhost:8080/"
        },
        "id": "DBwdUYoXszqa",
        "outputId": "2c1a0223-691a-4849-d2e0-31050a232848"
      },
      "source": [
        "import statsmodels.api as sm"
      ],
      "execution_count": null,
      "outputs": [
        {
          "output_type": "stream",
          "text": [
            "/usr/local/lib/python3.7/dist-packages/statsmodels/tools/_testing.py:19: FutureWarning: pandas.util.testing is deprecated. Use the functions in the public API at pandas.testing instead.\n",
            "  import pandas.util.testing as tm\n"
          ],
          "name": "stderr"
        }
      ]
    },
    {
      "cell_type": "code",
      "metadata": {
        "colab": {
          "base_uri": "https://localhost:8080/",
          "height": 204
        },
        "id": "XyGE9s_Xo_EF",
        "outputId": "812ba8d2-458c-447a-c964-3ef39d9f14d1"
      },
      "source": [
        "emerg=pd.read_csv('/content/sample_data/2021data_regres1.csv')\n",
        "emerg.head()"
      ],
      "execution_count": null,
      "outputs": [
        {
          "output_type": "execute_result",
          "data": {
            "text/html": [
              "<div>\n",
              "<style scoped>\n",
              "    .dataframe tbody tr th:only-of-type {\n",
              "        vertical-align: middle;\n",
              "    }\n",
              "\n",
              "    .dataframe tbody tr th {\n",
              "        vertical-align: top;\n",
              "    }\n",
              "\n",
              "    .dataframe thead th {\n",
              "        text-align: right;\n",
              "    }\n",
              "</style>\n",
              "<table border=\"1\" class=\"dataframe\">\n",
              "  <thead>\n",
              "    <tr style=\"text-align: right;\">\n",
              "      <th></th>\n",
              "      <th>時点</th>\n",
              "      <th>完全失業</th>\n",
              "      <th>人口</th>\n",
              "      <th>救急車回数</th>\n",
              "    </tr>\n",
              "  </thead>\n",
              "  <tbody>\n",
              "    <tr>\n",
              "      <th>0</th>\n",
              "      <td>1975年</td>\n",
              "      <td>100</td>\n",
              "      <td>111251507</td>\n",
              "      <td>1537762</td>\n",
              "    </tr>\n",
              "    <tr>\n",
              "      <th>1</th>\n",
              "      <td>1976年</td>\n",
              "      <td>108</td>\n",
              "      <td>112447000</td>\n",
              "      <td>1601045</td>\n",
              "    </tr>\n",
              "    <tr>\n",
              "      <th>2</th>\n",
              "      <td>1977年</td>\n",
              "      <td>110</td>\n",
              "      <td>113514000</td>\n",
              "      <td>1710722</td>\n",
              "    </tr>\n",
              "    <tr>\n",
              "      <th>3</th>\n",
              "      <td>1978年</td>\n",
              "      <td>124</td>\n",
              "      <td>114534000</td>\n",
              "      <td>1783458</td>\n",
              "    </tr>\n",
              "    <tr>\n",
              "      <th>4</th>\n",
              "      <td>1979年</td>\n",
              "      <td>117</td>\n",
              "      <td>115496000</td>\n",
              "      <td>1869163</td>\n",
              "    </tr>\n",
              "  </tbody>\n",
              "</table>\n",
              "</div>"
            ],
            "text/plain": [
              "      時点  完全失業         人口    救急車回数\n",
              "0  1975年   100  111251507  1537762\n",
              "1  1976年   108  112447000  1601045\n",
              "2  1977年   110  113514000  1710722\n",
              "3  1978年   124  114534000  1783458\n",
              "4  1979年   117  115496000  1869163"
            ]
          },
          "metadata": {
            "tags": []
          },
          "execution_count": 3
        }
      ]
    },
    {
      "cell_type": "code",
      "metadata": {
        "id": "4IYgqZsIsybN"
      },
      "source": [
        "x0=np.array(emerg['人口'])"
      ],
      "execution_count": null,
      "outputs": []
    },
    {
      "cell_type": "code",
      "metadata": {
        "id": "Hvs5OLRLydBT"
      },
      "source": [
        "lx0=np.log(x0)"
      ],
      "execution_count": null,
      "outputs": []
    },
    {
      "cell_type": "code",
      "metadata": {
        "id": "isFOzS58pjgy"
      },
      "source": [
        "x1 = np.array(emerg['完全失業'])"
      ],
      "execution_count": null,
      "outputs": []
    },
    {
      "cell_type": "code",
      "metadata": {
        "id": "GY4w_01ryiaG"
      },
      "source": [
        "lx1=np.log(x1)"
      ],
      "execution_count": null,
      "outputs": []
    },
    {
      "cell_type": "markdown",
      "metadata": {
        "id": "IQCNegLN6G9_"
      },
      "source": [
        "このやり方しか思いつきませんした"
      ]
    },
    {
      "cell_type": "code",
      "metadata": {
        "id": "73RUnECM6cjP"
      },
      "source": [
        "from pandas import Series, DataFrame"
      ],
      "execution_count": null,
      "outputs": []
    },
    {
      "cell_type": "code",
      "metadata": {
        "id": "rtpiKiaOsGpa"
      },
      "source": [
        "locというコマンドを使います。"
      ],
      "execution_count": null,
      "outputs": []
    },
    {
      "cell_type": "code",
      "metadata": {
        "id": "gNXW_cbbqD3m"
      },
      "source": [
        "x3= emerg.loc[:,['完全失業','人口']]"
      ],
      "execution_count": null,
      "outputs": []
    },
    {
      "cell_type": "code",
      "metadata": {
        "id": "3xNEMiI86tq_"
      },
      "source": [
        "lx3=np.log(x3)"
      ],
      "execution_count": null,
      "outputs": []
    },
    {
      "cell_type": "code",
      "metadata": {
        "colab": {
          "base_uri": "https://localhost:8080/",
          "height": 1000
        },
        "id": "nTaTH1gq4Lfe",
        "outputId": "9f705b07-1709-48cf-f91a-6513c4650771"
      },
      "source": [
        "lx3"
      ],
      "execution_count": null,
      "outputs": [
        {
          "output_type": "execute_result",
          "data": {
            "text/html": [
              "<div>\n",
              "<style scoped>\n",
              "    .dataframe tbody tr th:only-of-type {\n",
              "        vertical-align: middle;\n",
              "    }\n",
              "\n",
              "    .dataframe tbody tr th {\n",
              "        vertical-align: top;\n",
              "    }\n",
              "\n",
              "    .dataframe thead th {\n",
              "        text-align: right;\n",
              "    }\n",
              "</style>\n",
              "<table border=\"1\" class=\"dataframe\">\n",
              "  <thead>\n",
              "    <tr style=\"text-align: right;\">\n",
              "      <th></th>\n",
              "      <th>完全失業</th>\n",
              "      <th>人口</th>\n",
              "    </tr>\n",
              "  </thead>\n",
              "  <tbody>\n",
              "    <tr>\n",
              "      <th>0</th>\n",
              "      <td>4.605170</td>\n",
              "      <td>18.527304</td>\n",
              "    </tr>\n",
              "    <tr>\n",
              "      <th>1</th>\n",
              "      <td>4.682131</td>\n",
              "      <td>18.537993</td>\n",
              "    </tr>\n",
              "    <tr>\n",
              "      <th>2</th>\n",
              "      <td>4.700480</td>\n",
              "      <td>18.547437</td>\n",
              "    </tr>\n",
              "    <tr>\n",
              "      <th>3</th>\n",
              "      <td>4.820282</td>\n",
              "      <td>18.556382</td>\n",
              "    </tr>\n",
              "    <tr>\n",
              "      <th>4</th>\n",
              "      <td>4.762174</td>\n",
              "      <td>18.564746</td>\n",
              "    </tr>\n",
              "    <tr>\n",
              "      <th>5</th>\n",
              "      <td>4.736198</td>\n",
              "      <td>18.571859</td>\n",
              "    </tr>\n",
              "    <tr>\n",
              "      <th>6</th>\n",
              "      <td>4.836282</td>\n",
              "      <td>18.579580</td>\n",
              "    </tr>\n",
              "    <tr>\n",
              "      <th>7</th>\n",
              "      <td>4.912655</td>\n",
              "      <td>18.586560</td>\n",
              "    </tr>\n",
              "    <tr>\n",
              "      <th>8</th>\n",
              "      <td>5.049856</td>\n",
              "      <td>18.593280</td>\n",
              "    </tr>\n",
              "    <tr>\n",
              "      <th>9</th>\n",
              "      <td>5.081404</td>\n",
              "      <td>18.599605</td>\n",
              "    </tr>\n",
              "    <tr>\n",
              "      <th>10</th>\n",
              "      <td>5.049856</td>\n",
              "      <td>18.605395</td>\n",
              "    </tr>\n",
              "    <tr>\n",
              "      <th>11</th>\n",
              "      <td>5.117994</td>\n",
              "      <td>18.610631</td>\n",
              "    </tr>\n",
              "    <tr>\n",
              "      <th>12</th>\n",
              "      <td>5.153292</td>\n",
              "      <td>18.615277</td>\n",
              "    </tr>\n",
              "    <tr>\n",
              "      <th>13</th>\n",
              "      <td>5.043425</td>\n",
              "      <td>18.619097</td>\n",
              "    </tr>\n",
              "    <tr>\n",
              "      <th>14</th>\n",
              "      <td>4.955827</td>\n",
              "      <td>18.622445</td>\n",
              "    </tr>\n",
              "    <tr>\n",
              "      <th>15</th>\n",
              "      <td>4.897840</td>\n",
              "      <td>18.622792</td>\n",
              "    </tr>\n",
              "    <tr>\n",
              "      <th>16</th>\n",
              "      <td>4.912655</td>\n",
              "      <td>18.628694</td>\n",
              "    </tr>\n",
              "    <tr>\n",
              "      <th>17</th>\n",
              "      <td>4.955827</td>\n",
              "      <td>18.631881</td>\n",
              "    </tr>\n",
              "    <tr>\n",
              "      <th>18</th>\n",
              "      <td>5.111988</td>\n",
              "      <td>18.634557</td>\n",
              "    </tr>\n",
              "    <tr>\n",
              "      <th>19</th>\n",
              "      <td>5.257495</td>\n",
              "      <td>18.636993</td>\n",
              "    </tr>\n",
              "    <tr>\n",
              "      <th>20</th>\n",
              "      <td>5.347108</td>\n",
              "      <td>18.638200</td>\n",
              "    </tr>\n",
              "    <tr>\n",
              "      <th>21</th>\n",
              "      <td>5.416100</td>\n",
              "      <td>18.641486</td>\n",
              "    </tr>\n",
              "    <tr>\n",
              "      <th>22</th>\n",
              "      <td>5.438079</td>\n",
              "      <td>18.643512</td>\n",
              "    </tr>\n",
              "    <tr>\n",
              "      <th>23</th>\n",
              "      <td>5.631212</td>\n",
              "      <td>18.645806</td>\n",
              "    </tr>\n",
              "    <tr>\n",
              "      <th>24</th>\n",
              "      <td>5.758902</td>\n",
              "      <td>18.647234</td>\n",
              "    </tr>\n",
              "    <tr>\n",
              "      <th>25</th>\n",
              "      <td>5.768321</td>\n",
              "      <td>18.646913</td>\n",
              "    </tr>\n",
              "    <tr>\n",
              "      <th>26</th>\n",
              "      <td>5.828946</td>\n",
              "      <td>18.651237</td>\n",
              "    </tr>\n",
              "    <tr>\n",
              "      <th>27</th>\n",
              "      <td>5.883322</td>\n",
              "      <td>18.652213</td>\n",
              "    </tr>\n",
              "    <tr>\n",
              "      <th>28</th>\n",
              "      <td>5.857933</td>\n",
              "      <td>18.653426</td>\n",
              "    </tr>\n",
              "    <tr>\n",
              "      <th>29</th>\n",
              "      <td>5.746203</td>\n",
              "      <td>18.653901</td>\n",
              "    </tr>\n",
              "    <tr>\n",
              "      <th>30</th>\n",
              "      <td>5.683580</td>\n",
              "      <td>18.649648</td>\n",
              "    </tr>\n",
              "    <tr>\n",
              "      <th>31</th>\n",
              "      <td>5.616771</td>\n",
              "      <td>18.654060</td>\n",
              "    </tr>\n",
              "    <tr>\n",
              "      <th>32</th>\n",
              "      <td>5.549076</td>\n",
              "      <td>18.654543</td>\n",
              "    </tr>\n",
              "    <tr>\n",
              "      <th>33</th>\n",
              "      <td>5.579730</td>\n",
              "      <td>18.654487</td>\n",
              "    </tr>\n",
              "    <tr>\n",
              "      <th>34</th>\n",
              "      <td>5.817111</td>\n",
              "      <td>18.654511</td>\n",
              "    </tr>\n",
              "    <tr>\n",
              "      <th>35</th>\n",
              "      <td>5.811141</td>\n",
              "      <td>18.646691</td>\n",
              "    </tr>\n",
              "    <tr>\n",
              "      <th>36</th>\n",
              "      <td>5.710427</td>\n",
              "      <td>18.653458</td>\n",
              "    </tr>\n",
              "    <tr>\n",
              "      <th>37</th>\n",
              "      <td>5.652489</td>\n",
              "      <td>18.651975</td>\n",
              "    </tr>\n",
              "    <tr>\n",
              "      <th>38</th>\n",
              "      <td>5.579730</td>\n",
              "      <td>18.650228</td>\n",
              "    </tr>\n",
              "    <tr>\n",
              "      <th>39</th>\n",
              "      <td>5.463832</td>\n",
              "      <td>18.648310</td>\n",
              "    </tr>\n",
              "    <tr>\n",
              "      <th>40</th>\n",
              "      <td>5.402677</td>\n",
              "      <td>18.638079</td>\n",
              "    </tr>\n",
              "    <tr>\n",
              "      <th>41</th>\n",
              "      <td>5.337538</td>\n",
              "      <td>18.643984</td>\n",
              "    </tr>\n",
              "    <tr>\n",
              "      <th>42</th>\n",
              "      <td>5.247024</td>\n",
              "      <td>18.641004</td>\n",
              "    </tr>\n",
              "    <tr>\n",
              "      <th>43</th>\n",
              "      <td>5.111988</td>\n",
              "      <td>18.637549</td>\n",
              "    </tr>\n",
              "  </tbody>\n",
              "</table>\n",
              "</div>"
            ],
            "text/plain": [
              "        完全失業         人口\n",
              "0   4.605170  18.527304\n",
              "1   4.682131  18.537993\n",
              "2   4.700480  18.547437\n",
              "3   4.820282  18.556382\n",
              "4   4.762174  18.564746\n",
              "5   4.736198  18.571859\n",
              "6   4.836282  18.579580\n",
              "7   4.912655  18.586560\n",
              "8   5.049856  18.593280\n",
              "9   5.081404  18.599605\n",
              "10  5.049856  18.605395\n",
              "11  5.117994  18.610631\n",
              "12  5.153292  18.615277\n",
              "13  5.043425  18.619097\n",
              "14  4.955827  18.622445\n",
              "15  4.897840  18.622792\n",
              "16  4.912655  18.628694\n",
              "17  4.955827  18.631881\n",
              "18  5.111988  18.634557\n",
              "19  5.257495  18.636993\n",
              "20  5.347108  18.638200\n",
              "21  5.416100  18.641486\n",
              "22  5.438079  18.643512\n",
              "23  5.631212  18.645806\n",
              "24  5.758902  18.647234\n",
              "25  5.768321  18.646913\n",
              "26  5.828946  18.651237\n",
              "27  5.883322  18.652213\n",
              "28  5.857933  18.653426\n",
              "29  5.746203  18.653901\n",
              "30  5.683580  18.649648\n",
              "31  5.616771  18.654060\n",
              "32  5.549076  18.654543\n",
              "33  5.579730  18.654487\n",
              "34  5.817111  18.654511\n",
              "35  5.811141  18.646691\n",
              "36  5.710427  18.653458\n",
              "37  5.652489  18.651975\n",
              "38  5.579730  18.650228\n",
              "39  5.463832  18.648310\n",
              "40  5.402677  18.638079\n",
              "41  5.337538  18.643984\n",
              "42  5.247024  18.641004\n",
              "43  5.111988  18.637549"
            ]
          },
          "metadata": {
            "tags": []
          },
          "execution_count": 11
        }
      ]
    },
    {
      "cell_type": "code",
      "metadata": {
        "id": "xAatOZ5ftOVC"
      },
      "source": [
        "Y=np.array(emerg['救急車回数'])"
      ],
      "execution_count": null,
      "outputs": []
    },
    {
      "cell_type": "code",
      "metadata": {
        "id": "XEOxYTtOtd1a"
      },
      "source": [
        "ly=np.log(Y)"
      ],
      "execution_count": null,
      "outputs": []
    },
    {
      "cell_type": "code",
      "metadata": {
        "colab": {
          "base_uri": "https://localhost:8080/"
        },
        "id": "z9o7MCuAtsSJ",
        "outputId": "68d7c0f8-691f-4d2b-8351-76881622efd6"
      },
      "source": [
        "model =sm.OLS(ly,sm.add_constant(lx3))\n",
        "result = model.fit()\n",
        "print(result.summary())"
      ],
      "execution_count": null,
      "outputs": [
        {
          "output_type": "stream",
          "text": [
            "                            OLS Regression Results                            \n",
            "==============================================================================\n",
            "Dep. Variable:                      y   R-squared:                       0.783\n",
            "Model:                            OLS   Adj. R-squared:                  0.772\n",
            "Method:                 Least Squares   F-statistic:                     73.81\n",
            "Date:                Mon, 17 May 2021   Prob (F-statistic):           2.59e-14\n",
            "Time:                        05:53:03   Log-Likelihood:                 7.1882\n",
            "No. Observations:                  44   AIC:                            -8.376\n",
            "Df Residuals:                      41   BIC:                            -3.024\n",
            "Df Model:                           2                                         \n",
            "Covariance Type:            nonrobust                                         \n",
            "==============================================================================\n",
            "                 coef    std err          t      P>|t|      [0.025      0.975]\n",
            "------------------------------------------------------------------------------\n",
            "const       -142.1012     32.181     -4.416      0.000    -207.091     -77.111\n",
            "完全失業           0.2867      0.163      1.764      0.085      -0.042       0.615\n",
            "人口             8.3570      1.767      4.729      0.000       4.788      11.926\n",
            "==============================================================================\n",
            "Omnibus:                        8.082   Durbin-Watson:                   0.067\n",
            "Prob(Omnibus):                  0.018   Jarque-Bera (JB):                7.462\n",
            "Skew:                           0.994   Prob(JB):                       0.0240\n",
            "Kurtosis:                       3.343   Cond. No.                     1.95e+04\n",
            "==============================================================================\n",
            "\n",
            "Warnings:\n",
            "[1] Standard Errors assume that the covariance matrix of the errors is correctly specified.\n",
            "[2] The condition number is large, 1.95e+04. This might indicate that there are\n",
            "strong multicollinearity or other numerical problems.\n"
          ],
          "name": "stdout"
        }
      ]
    },
    {
      "cell_type": "code",
      "metadata": {
        "id": "s76jmO2nzBjL"
      },
      "source": [
        "columns = ['人口', '失業者']"
      ],
      "execution_count": null,
      "outputs": []
    },
    {
      "cell_type": "code",
      "metadata": {
        "id": "98Oyyzme01T4"
      },
      "source": [
        ""
      ],
      "execution_count": null,
      "outputs": []
    },
    {
      "cell_type": "markdown",
      "metadata": {
        "id": "PQUcIVeDbqlF"
      },
      "source": [
        "もう一つの方法"
      ]
    },
    {
      "cell_type": "code",
      "metadata": {
        "colab": {
          "base_uri": "https://localhost:8080/"
        },
        "id": "enq320mMsA58",
        "outputId": "47d7ff08-cc69-4d2c-d811-22ab132658e0"
      },
      "source": [
        "a=pd.Series(lx0,lx1)\n",
        "print(a)\n"
      ],
      "execution_count": null,
      "outputs": [
        {
          "output_type": "stream",
          "text": [
            "4.605170    18.527304\n",
            "4.682131    18.537993\n",
            "4.700480    18.547437\n",
            "4.820282    18.556382\n",
            "4.762174    18.564746\n",
            "4.736198    18.571859\n",
            "4.836282    18.579580\n",
            "4.912655    18.586560\n",
            "5.049856    18.593280\n",
            "5.081404    18.599605\n",
            "5.049856    18.605395\n",
            "5.117994    18.610631\n",
            "5.153292    18.615277\n",
            "5.043425    18.619097\n",
            "4.955827    18.622445\n",
            "4.897840    18.622792\n",
            "4.912655    18.628694\n",
            "4.955827    18.631881\n",
            "5.111988    18.634557\n",
            "5.257495    18.636993\n",
            "5.347108    18.638200\n",
            "5.416100    18.641486\n",
            "5.438079    18.643512\n",
            "5.631212    18.645806\n",
            "5.758902    18.647234\n",
            "5.768321    18.646913\n",
            "5.828946    18.651237\n",
            "5.883322    18.652213\n",
            "5.857933    18.653426\n",
            "5.746203    18.653901\n",
            "5.683580    18.649648\n",
            "5.616771    18.654060\n",
            "5.549076    18.654543\n",
            "5.579730    18.654487\n",
            "5.817111    18.654511\n",
            "5.811141    18.646691\n",
            "5.710427    18.653458\n",
            "5.652489    18.651975\n",
            "5.579730    18.650228\n",
            "5.463832    18.648310\n",
            "5.402677    18.638079\n",
            "5.337538    18.643984\n",
            "5.247024    18.641004\n",
            "5.111988    18.637549\n",
            "dtype: float64\n"
          ],
          "name": "stdout"
        }
      ]
    },
    {
      "cell_type": "code",
      "metadata": {
        "colab": {
          "base_uri": "https://localhost:8080/",
          "height": 1000
        },
        "id": "-_7B6pz22ETj",
        "outputId": "507ec717-41ef-4abc-8fb7-2f94bbb68c07"
      },
      "source": [
        "x4=pd.DataFrame({'対数人口':lx0,'対数失業':lx1})\n",
        "x4\n"
      ],
      "execution_count": null,
      "outputs": [
        {
          "output_type": "execute_result",
          "data": {
            "text/html": [
              "<div>\n",
              "<style scoped>\n",
              "    .dataframe tbody tr th:only-of-type {\n",
              "        vertical-align: middle;\n",
              "    }\n",
              "\n",
              "    .dataframe tbody tr th {\n",
              "        vertical-align: top;\n",
              "    }\n",
              "\n",
              "    .dataframe thead th {\n",
              "        text-align: right;\n",
              "    }\n",
              "</style>\n",
              "<table border=\"1\" class=\"dataframe\">\n",
              "  <thead>\n",
              "    <tr style=\"text-align: right;\">\n",
              "      <th></th>\n",
              "      <th>対数人口</th>\n",
              "      <th>対数失業</th>\n",
              "    </tr>\n",
              "  </thead>\n",
              "  <tbody>\n",
              "    <tr>\n",
              "      <th>0</th>\n",
              "      <td>18.527304</td>\n",
              "      <td>4.605170</td>\n",
              "    </tr>\n",
              "    <tr>\n",
              "      <th>1</th>\n",
              "      <td>18.537993</td>\n",
              "      <td>4.682131</td>\n",
              "    </tr>\n",
              "    <tr>\n",
              "      <th>2</th>\n",
              "      <td>18.547437</td>\n",
              "      <td>4.700480</td>\n",
              "    </tr>\n",
              "    <tr>\n",
              "      <th>3</th>\n",
              "      <td>18.556382</td>\n",
              "      <td>4.820282</td>\n",
              "    </tr>\n",
              "    <tr>\n",
              "      <th>4</th>\n",
              "      <td>18.564746</td>\n",
              "      <td>4.762174</td>\n",
              "    </tr>\n",
              "    <tr>\n",
              "      <th>5</th>\n",
              "      <td>18.571859</td>\n",
              "      <td>4.736198</td>\n",
              "    </tr>\n",
              "    <tr>\n",
              "      <th>6</th>\n",
              "      <td>18.579580</td>\n",
              "      <td>4.836282</td>\n",
              "    </tr>\n",
              "    <tr>\n",
              "      <th>7</th>\n",
              "      <td>18.586560</td>\n",
              "      <td>4.912655</td>\n",
              "    </tr>\n",
              "    <tr>\n",
              "      <th>8</th>\n",
              "      <td>18.593280</td>\n",
              "      <td>5.049856</td>\n",
              "    </tr>\n",
              "    <tr>\n",
              "      <th>9</th>\n",
              "      <td>18.599605</td>\n",
              "      <td>5.081404</td>\n",
              "    </tr>\n",
              "    <tr>\n",
              "      <th>10</th>\n",
              "      <td>18.605395</td>\n",
              "      <td>5.049856</td>\n",
              "    </tr>\n",
              "    <tr>\n",
              "      <th>11</th>\n",
              "      <td>18.610631</td>\n",
              "      <td>5.117994</td>\n",
              "    </tr>\n",
              "    <tr>\n",
              "      <th>12</th>\n",
              "      <td>18.615277</td>\n",
              "      <td>5.153292</td>\n",
              "    </tr>\n",
              "    <tr>\n",
              "      <th>13</th>\n",
              "      <td>18.619097</td>\n",
              "      <td>5.043425</td>\n",
              "    </tr>\n",
              "    <tr>\n",
              "      <th>14</th>\n",
              "      <td>18.622445</td>\n",
              "      <td>4.955827</td>\n",
              "    </tr>\n",
              "    <tr>\n",
              "      <th>15</th>\n",
              "      <td>18.622792</td>\n",
              "      <td>4.897840</td>\n",
              "    </tr>\n",
              "    <tr>\n",
              "      <th>16</th>\n",
              "      <td>18.628694</td>\n",
              "      <td>4.912655</td>\n",
              "    </tr>\n",
              "    <tr>\n",
              "      <th>17</th>\n",
              "      <td>18.631881</td>\n",
              "      <td>4.955827</td>\n",
              "    </tr>\n",
              "    <tr>\n",
              "      <th>18</th>\n",
              "      <td>18.634557</td>\n",
              "      <td>5.111988</td>\n",
              "    </tr>\n",
              "    <tr>\n",
              "      <th>19</th>\n",
              "      <td>18.636993</td>\n",
              "      <td>5.257495</td>\n",
              "    </tr>\n",
              "    <tr>\n",
              "      <th>20</th>\n",
              "      <td>18.638200</td>\n",
              "      <td>5.347108</td>\n",
              "    </tr>\n",
              "    <tr>\n",
              "      <th>21</th>\n",
              "      <td>18.641486</td>\n",
              "      <td>5.416100</td>\n",
              "    </tr>\n",
              "    <tr>\n",
              "      <th>22</th>\n",
              "      <td>18.643512</td>\n",
              "      <td>5.438079</td>\n",
              "    </tr>\n",
              "    <tr>\n",
              "      <th>23</th>\n",
              "      <td>18.645806</td>\n",
              "      <td>5.631212</td>\n",
              "    </tr>\n",
              "    <tr>\n",
              "      <th>24</th>\n",
              "      <td>18.647234</td>\n",
              "      <td>5.758902</td>\n",
              "    </tr>\n",
              "    <tr>\n",
              "      <th>25</th>\n",
              "      <td>18.646913</td>\n",
              "      <td>5.768321</td>\n",
              "    </tr>\n",
              "    <tr>\n",
              "      <th>26</th>\n",
              "      <td>18.651237</td>\n",
              "      <td>5.828946</td>\n",
              "    </tr>\n",
              "    <tr>\n",
              "      <th>27</th>\n",
              "      <td>18.652213</td>\n",
              "      <td>5.883322</td>\n",
              "    </tr>\n",
              "    <tr>\n",
              "      <th>28</th>\n",
              "      <td>18.653426</td>\n",
              "      <td>5.857933</td>\n",
              "    </tr>\n",
              "    <tr>\n",
              "      <th>29</th>\n",
              "      <td>18.653901</td>\n",
              "      <td>5.746203</td>\n",
              "    </tr>\n",
              "    <tr>\n",
              "      <th>30</th>\n",
              "      <td>18.649648</td>\n",
              "      <td>5.683580</td>\n",
              "    </tr>\n",
              "    <tr>\n",
              "      <th>31</th>\n",
              "      <td>18.654060</td>\n",
              "      <td>5.616771</td>\n",
              "    </tr>\n",
              "    <tr>\n",
              "      <th>32</th>\n",
              "      <td>18.654543</td>\n",
              "      <td>5.549076</td>\n",
              "    </tr>\n",
              "    <tr>\n",
              "      <th>33</th>\n",
              "      <td>18.654487</td>\n",
              "      <td>5.579730</td>\n",
              "    </tr>\n",
              "    <tr>\n",
              "      <th>34</th>\n",
              "      <td>18.654511</td>\n",
              "      <td>5.817111</td>\n",
              "    </tr>\n",
              "    <tr>\n",
              "      <th>35</th>\n",
              "      <td>18.646691</td>\n",
              "      <td>5.811141</td>\n",
              "    </tr>\n",
              "    <tr>\n",
              "      <th>36</th>\n",
              "      <td>18.653458</td>\n",
              "      <td>5.710427</td>\n",
              "    </tr>\n",
              "    <tr>\n",
              "      <th>37</th>\n",
              "      <td>18.651975</td>\n",
              "      <td>5.652489</td>\n",
              "    </tr>\n",
              "    <tr>\n",
              "      <th>38</th>\n",
              "      <td>18.650228</td>\n",
              "      <td>5.579730</td>\n",
              "    </tr>\n",
              "    <tr>\n",
              "      <th>39</th>\n",
              "      <td>18.648310</td>\n",
              "      <td>5.463832</td>\n",
              "    </tr>\n",
              "    <tr>\n",
              "      <th>40</th>\n",
              "      <td>18.638079</td>\n",
              "      <td>5.402677</td>\n",
              "    </tr>\n",
              "    <tr>\n",
              "      <th>41</th>\n",
              "      <td>18.643984</td>\n",
              "      <td>5.337538</td>\n",
              "    </tr>\n",
              "    <tr>\n",
              "      <th>42</th>\n",
              "      <td>18.641004</td>\n",
              "      <td>5.247024</td>\n",
              "    </tr>\n",
              "    <tr>\n",
              "      <th>43</th>\n",
              "      <td>18.637549</td>\n",
              "      <td>5.111988</td>\n",
              "    </tr>\n",
              "  </tbody>\n",
              "</table>\n",
              "</div>"
            ],
            "text/plain": [
              "         対数人口      対数失業\n",
              "0   18.527304  4.605170\n",
              "1   18.537993  4.682131\n",
              "2   18.547437  4.700480\n",
              "3   18.556382  4.820282\n",
              "4   18.564746  4.762174\n",
              "5   18.571859  4.736198\n",
              "6   18.579580  4.836282\n",
              "7   18.586560  4.912655\n",
              "8   18.593280  5.049856\n",
              "9   18.599605  5.081404\n",
              "10  18.605395  5.049856\n",
              "11  18.610631  5.117994\n",
              "12  18.615277  5.153292\n",
              "13  18.619097  5.043425\n",
              "14  18.622445  4.955827\n",
              "15  18.622792  4.897840\n",
              "16  18.628694  4.912655\n",
              "17  18.631881  4.955827\n",
              "18  18.634557  5.111988\n",
              "19  18.636993  5.257495\n",
              "20  18.638200  5.347108\n",
              "21  18.641486  5.416100\n",
              "22  18.643512  5.438079\n",
              "23  18.645806  5.631212\n",
              "24  18.647234  5.758902\n",
              "25  18.646913  5.768321\n",
              "26  18.651237  5.828946\n",
              "27  18.652213  5.883322\n",
              "28  18.653426  5.857933\n",
              "29  18.653901  5.746203\n",
              "30  18.649648  5.683580\n",
              "31  18.654060  5.616771\n",
              "32  18.654543  5.549076\n",
              "33  18.654487  5.579730\n",
              "34  18.654511  5.817111\n",
              "35  18.646691  5.811141\n",
              "36  18.653458  5.710427\n",
              "37  18.651975  5.652489\n",
              "38  18.650228  5.579730\n",
              "39  18.648310  5.463832\n",
              "40  18.638079  5.402677\n",
              "41  18.643984  5.337538\n",
              "42  18.641004  5.247024\n",
              "43  18.637549  5.111988"
            ]
          },
          "metadata": {
            "tags": []
          },
          "execution_count": 20
        }
      ]
    },
    {
      "cell_type": "code",
      "metadata": {
        "colab": {
          "base_uri": "https://localhost:8080/"
        },
        "id": "qumCmCFkbJbt",
        "outputId": "252cf97c-6682-4526-a749-1164aadf7458"
      },
      "source": [
        "model =sm.OLS(ly,sm.add_constant(x4))\n",
        "result = model.fit()\n",
        "print(result.summary())"
      ],
      "execution_count": null,
      "outputs": [
        {
          "output_type": "stream",
          "text": [
            "                            OLS Regression Results                            \n",
            "==============================================================================\n",
            "Dep. Variable:                      y   R-squared:                       0.783\n",
            "Model:                            OLS   Adj. R-squared:                  0.772\n",
            "Method:                 Least Squares   F-statistic:                     73.81\n",
            "Date:                Mon, 17 May 2021   Prob (F-statistic):           2.59e-14\n",
            "Time:                        05:58:44   Log-Likelihood:                 7.1882\n",
            "No. Observations:                  44   AIC:                            -8.376\n",
            "Df Residuals:                      41   BIC:                            -3.024\n",
            "Df Model:                           2                                         \n",
            "Covariance Type:            nonrobust                                         \n",
            "==============================================================================\n",
            "                 coef    std err          t      P>|t|      [0.025      0.975]\n",
            "------------------------------------------------------------------------------\n",
            "const       -142.1012     32.181     -4.416      0.000    -207.091     -77.111\n",
            "対数人口           8.3570      1.767      4.729      0.000       4.788      11.926\n",
            "対数失業           0.2867      0.163      1.764      0.085      -0.042       0.615\n",
            "==============================================================================\n",
            "Omnibus:                        8.082   Durbin-Watson:                   0.067\n",
            "Prob(Omnibus):                  0.018   Jarque-Bera (JB):                7.462\n",
            "Skew:                           0.994   Prob(JB):                       0.0240\n",
            "Kurtosis:                       3.343   Cond. No.                     1.95e+04\n",
            "==============================================================================\n",
            "\n",
            "Warnings:\n",
            "[1] Standard Errors assume that the covariance matrix of the errors is correctly specified.\n",
            "[2] The condition number is large, 1.95e+04. This might indicate that there are\n",
            "strong multicollinearity or other numerical problems.\n"
          ],
          "name": "stdout"
        }
      ]
    },
    {
      "cell_type": "markdown",
      "metadata": {
        "id": "f-osV_oLgP8G"
      },
      "source": [
        "# ***主成分分析***"
      ]
    },
    {
      "cell_type": "code",
      "metadata": {
        "id": "GDDdygm8ga-q"
      },
      "source": [
        "import math\n",
        "import numpy as np\n",
        "import pandas as pd\n",
        "import matplotlib.pyplot as plt\n"
      ],
      "execution_count": null,
      "outputs": []
    },
    {
      "cell_type": "markdown",
      "metadata": {
        "id": "zEFqyWoth9Bf"
      },
      "source": [
        "主成分分析（PCA）を利用するためのライブラリーは。sklearnです。ここのPCAを呼び出します。\n",
        "Preprocesssing は、データを標準化しています。そもそものデータから平均を差し引き、それを標準偏差で割るというような作業が基準化、標準化と呼ばれるものです。こうしないと、そもそも、試験問題の難しさによって成績が、科目ごとに違う場合などに影響が出てしまします。\n",
        "標準化には、この他にも、成績の場合には偏差値などもあるとは思います。\n"
      ]
    },
    {
      "cell_type": "code",
      "metadata": {
        "id": "8TGmFFJ0g9EX"
      },
      "source": [
        "from sklearn.decomposition import PCA\n",
        "from sklearn.preprocessing import scale"
      ],
      "execution_count": null,
      "outputs": []
    },
    {
      "cell_type": "code",
      "metadata": {
        "colab": {
          "base_uri": "https://localhost:8080/",
          "height": 204
        },
        "id": "meJ2kd1dgklZ",
        "outputId": "6deecd35-ae8c-4f96-824f-52f9e2b85d26"
      },
      "source": [
        "pca1=pd.read_csv('/content/sample_data/seiseki.csv')\n",
        "pca1.head()"
      ],
      "execution_count": null,
      "outputs": [
        {
          "output_type": "execute_result",
          "data": {
            "text/html": [
              "<div>\n",
              "<style scoped>\n",
              "    .dataframe tbody tr th:only-of-type {\n",
              "        vertical-align: middle;\n",
              "    }\n",
              "\n",
              "    .dataframe tbody tr th {\n",
              "        vertical-align: top;\n",
              "    }\n",
              "\n",
              "    .dataframe thead th {\n",
              "        text-align: right;\n",
              "    }\n",
              "</style>\n",
              "<table border=\"1\" class=\"dataframe\">\n",
              "  <thead>\n",
              "    <tr style=\"text-align: right;\">\n",
              "      <th></th>\n",
              "      <th>学籍番号</th>\n",
              "      <th>国語</th>\n",
              "      <th>社会</th>\n",
              "      <th>数学</th>\n",
              "      <th>理科</th>\n",
              "      <th>英語</th>\n",
              "    </tr>\n",
              "  </thead>\n",
              "  <tbody>\n",
              "    <tr>\n",
              "      <th>0</th>\n",
              "      <td>1</td>\n",
              "      <td>42</td>\n",
              "      <td>49</td>\n",
              "      <td>42</td>\n",
              "      <td>35</td>\n",
              "      <td>48</td>\n",
              "    </tr>\n",
              "    <tr>\n",
              "      <th>1</th>\n",
              "      <td>2</td>\n",
              "      <td>42</td>\n",
              "      <td>52</td>\n",
              "      <td>43</td>\n",
              "      <td>49</td>\n",
              "      <td>46</td>\n",
              "    </tr>\n",
              "    <tr>\n",
              "      <th>2</th>\n",
              "      <td>3</td>\n",
              "      <td>41</td>\n",
              "      <td>39</td>\n",
              "      <td>42</td>\n",
              "      <td>39</td>\n",
              "      <td>43</td>\n",
              "    </tr>\n",
              "    <tr>\n",
              "      <th>3</th>\n",
              "      <td>4</td>\n",
              "      <td>77</td>\n",
              "      <td>61</td>\n",
              "      <td>48</td>\n",
              "      <td>48</td>\n",
              "      <td>67</td>\n",
              "    </tr>\n",
              "    <tr>\n",
              "      <th>4</th>\n",
              "      <td>5</td>\n",
              "      <td>40</td>\n",
              "      <td>38</td>\n",
              "      <td>45</td>\n",
              "      <td>49</td>\n",
              "      <td>34</td>\n",
              "    </tr>\n",
              "  </tbody>\n",
              "</table>\n",
              "</div>"
            ],
            "text/plain": [
              "   学籍番号  国語  社会  数学  理科  英語\n",
              "0     1  42  49  42  35  48\n",
              "1     2  42  52  43  49  46\n",
              "2     3  41  39  42  39  43\n",
              "3     4  77  61  48  48  67\n",
              "4     5  40  38  45  49  34"
            ]
          },
          "metadata": {
            "tags": []
          },
          "execution_count": 118
        }
      ]
    },
    {
      "cell_type": "code",
      "metadata": {
        "colab": {
          "base_uri": "https://localhost:8080/",
          "height": 204
        },
        "id": "oQ_vKfYZlrOJ",
        "outputId": "046f974a-8051-4c03-9413-bf8d343abac1"
      },
      "source": [
        "pca2= pca1.loc[:,['国語','社会','数学','理科','英語']]\n",
        "pca2.head()"
      ],
      "execution_count": null,
      "outputs": [
        {
          "output_type": "execute_result",
          "data": {
            "text/html": [
              "<div>\n",
              "<style scoped>\n",
              "    .dataframe tbody tr th:only-of-type {\n",
              "        vertical-align: middle;\n",
              "    }\n",
              "\n",
              "    .dataframe tbody tr th {\n",
              "        vertical-align: top;\n",
              "    }\n",
              "\n",
              "    .dataframe thead th {\n",
              "        text-align: right;\n",
              "    }\n",
              "</style>\n",
              "<table border=\"1\" class=\"dataframe\">\n",
              "  <thead>\n",
              "    <tr style=\"text-align: right;\">\n",
              "      <th></th>\n",
              "      <th>国語</th>\n",
              "      <th>社会</th>\n",
              "      <th>数学</th>\n",
              "      <th>理科</th>\n",
              "      <th>英語</th>\n",
              "    </tr>\n",
              "  </thead>\n",
              "  <tbody>\n",
              "    <tr>\n",
              "      <th>0</th>\n",
              "      <td>42</td>\n",
              "      <td>49</td>\n",
              "      <td>42</td>\n",
              "      <td>35</td>\n",
              "      <td>48</td>\n",
              "    </tr>\n",
              "    <tr>\n",
              "      <th>1</th>\n",
              "      <td>42</td>\n",
              "      <td>52</td>\n",
              "      <td>43</td>\n",
              "      <td>49</td>\n",
              "      <td>46</td>\n",
              "    </tr>\n",
              "    <tr>\n",
              "      <th>2</th>\n",
              "      <td>41</td>\n",
              "      <td>39</td>\n",
              "      <td>42</td>\n",
              "      <td>39</td>\n",
              "      <td>43</td>\n",
              "    </tr>\n",
              "    <tr>\n",
              "      <th>3</th>\n",
              "      <td>77</td>\n",
              "      <td>61</td>\n",
              "      <td>48</td>\n",
              "      <td>48</td>\n",
              "      <td>67</td>\n",
              "    </tr>\n",
              "    <tr>\n",
              "      <th>4</th>\n",
              "      <td>40</td>\n",
              "      <td>38</td>\n",
              "      <td>45</td>\n",
              "      <td>49</td>\n",
              "      <td>34</td>\n",
              "    </tr>\n",
              "  </tbody>\n",
              "</table>\n",
              "</div>"
            ],
            "text/plain": [
              "   国語  社会  数学  理科  英語\n",
              "0  42  49  42  35  48\n",
              "1  42  52  43  49  46\n",
              "2  41  39  42  39  43\n",
              "3  77  61  48  48  67\n",
              "4  40  38  45  49  34"
            ]
          },
          "metadata": {
            "tags": []
          },
          "execution_count": 119
        }
      ]
    },
    {
      "cell_type": "markdown",
      "metadata": {
        "id": "RRvayNWOm27T"
      },
      "source": [
        "データの標準化"
      ]
    },
    {
      "cell_type": "code",
      "metadata": {
        "id": "IkTQqGHJmKQQ",
        "colab": {
          "base_uri": "https://localhost:8080/"
        },
        "outputId": "0a8d1c9d-eb48-42dc-9a7e-fda56728ce8d"
      },
      "source": [
        "pca2_s=scale(pca2)\n",
        "pca2_s"
      ],
      "execution_count": null,
      "outputs": [
        {
          "output_type": "execute_result",
          "data": {
            "text/plain": [
              "array([[-0.37846082,  0.38199339, -0.85726402, -1.27310383,  0.00418747],\n",
              "       [-0.37846082,  0.73642025, -0.70686683,  0.2589982 , -0.24706097],\n",
              "       [-0.48262434, -0.79942947, -0.85726402, -0.83536039, -0.62393362],\n",
              "       [ 3.26726263,  1.79970083,  0.04511916,  0.14956234,  2.39104764],\n",
              "       [-0.58678787, -0.91757176, -0.40607243,  0.2589982 , -1.7545516 ],\n",
              "       [ 0.66317446,  0.14570882,  2.00028272,  2.11940781, -0.24706097],\n",
              "       [-0.17013376, -1.50828319,  0.19551636, -2.91464172, -2.3826727 ],\n",
              "       [-0.06597023, -0.79942947,  0.04511916, -0.06930938, -0.37268518],\n",
              "       [ 1.18399209,  0.02756653,  0.94750234, -0.06930938, -0.74955784],\n",
              "       [-0.06597023,  0.61827797,  0.79710514, -0.06930938,  0.63230857],\n",
              "       [-1.10760551,  0.26385111, -0.40607243,  0.58730578, -0.24706097],\n",
              "       [-1.21176903,  0.14570882, -0.40607243, -0.06930938,  0.00418747],\n",
              "       [ 1.70480973,  1.56341626,  1.69948833,  0.14956234,  0.75793279],\n",
              "       [ 0.35068387,  1.09084711,  1.39869393,  0.14956234,  0.63230857],\n",
              "       [-1.00344198, -1.15385633, -0.55646963,  0.04012648, -0.12143675],\n",
              "       [-0.58678787,  0.73642025, -1.75964721,  0.04012648, -0.24706097],\n",
              "       [ 0.03819329,  1.56341626,  0.34591355,  0.69674164,  1.13480545],\n",
              "       [-1.21176903, -0.79942947, -0.70686683,  0.36843406, -1.00080628],\n",
              "       [-0.79511492, -0.44500261, -1.00766122, -1.16366797, -0.87518206],\n",
              "       [ 0.35068387,  1.2089894 ,  0.94750234,  1.57222851,  0.38106013],\n",
              "       [-0.17013376,  0.73642025,  0.19551636, -0.94479625,  0.50668435],\n",
              "       [-0.27429729,  0.73642025, -0.25567524, -1.16366797,  0.00418747],\n",
              "       [ 0.03819329, -0.20871804, -0.10527804, -0.83536039, -1.37767894],\n",
              "       [ 0.24652035, -0.20871804, -0.85726402, -0.06930938,  1.51167811],\n",
              "       [ 0.87150151,  0.50013568,  0.34591355, -0.17874524, -0.24706097],\n",
              "       [ 1.80897325, -2.09899463, -1.9100444 , -0.50705281,  0.00418747],\n",
              "       [ 0.55901093, -0.5631449 ,  1.84988552,  1.35335679,  1.88855077],\n",
              "       [-1.21176903, -1.98085234, -0.40607243, -0.2881811 ,  0.00418747],\n",
              "       [-0.27429729,  0.14570882, -1.00766122,  0.69674164, -0.4983094 ],\n",
              "       [-1.10760551, -0.91757176,  1.39869393,  2.00997195,  1.13480545]])"
            ]
          },
          "metadata": {
            "tags": []
          },
          "execution_count": 120
        }
      ]
    },
    {
      "cell_type": "markdown",
      "metadata": {
        "id": "bx3XJh9sm9cr"
      },
      "source": [
        "主成分分析の実行\n",
        "実行した結果を、resultという名前で記録させる。"
      ]
    },
    {
      "cell_type": "code",
      "metadata": {
        "id": "qZ1T9IUDmxgE",
        "colab": {
          "base_uri": "https://localhost:8080/"
        },
        "outputId": "9cf6f9a5-5cd8-44e3-e9ad-564a18e2149b"
      },
      "source": [
        "pca=PCA()\n",
        "pca.fit(pca2_s)"
      ],
      "execution_count": null,
      "outputs": [
        {
          "output_type": "execute_result",
          "data": {
            "text/plain": [
              "PCA(copy=True, iterated_power='auto', n_components=None, random_state=None,\n",
              "    svd_solver='auto', tol=0.0, whiten=False)"
            ]
          },
          "metadata": {
            "tags": []
          },
          "execution_count": 121
        }
      ]
    },
    {
      "cell_type": "markdown",
      "metadata": {
        "id": "t_mUP6qDy2XF"
      },
      "source": [
        ""
      ]
    },
    {
      "cell_type": "markdown",
      "metadata": {
        "id": "0UTnsb1nyCbZ"
      },
      "source": [
        "**太字**ここで、空白などを入れると動かないので注意\n",
        "\n",
        "print('主成分', pca.components_.round(4))、一見よさそうですが、\n",
        "'主成分',空白pca.components_round(4)) だと動かない。\n",
        "\n",
        "---\n",
        "\n"
      ]
    },
    {
      "cell_type": "code",
      "metadata": {
        "colab": {
          "base_uri": "https://localhost:8080/"
        },
        "id": "qn8zlXVaySoK",
        "outputId": "e1b425c7-6fad-4b80-8bf2-2e4e498d369b"
      },
      "source": [
        "print('主成分',pca.components_.round(2))  \n",
        "print('平均',pca.mean_) \n",
        "print('共分散', pca.get_covariance())   "
      ],
      "execution_count": null,
      "outputs": [
        {
          "output_type": "stream",
          "text": [
            "主成分 [[ 0.39  0.45  0.45  0.41  0.52]\n",
            " [-0.61 -0.33  0.31  0.65 -0.04]\n",
            " [ 0.35 -0.3   0.72 -0.2  -0.48]\n",
            " [ 0.45 -0.76 -0.23  0.17  0.38]\n",
            " [ 0.39  0.17 -0.35  0.58 -0.6 ]]\n",
            "平均 [ 7.40148683e-17  1.36927506e-16 -3.92278802e-16  5.92118946e-17\n",
            " -2.07241631e-16]\n",
            "共分散 [[1.03448276 0.38634136 0.29640968 0.05973456 0.43661824]\n",
            " [0.38634136 1.03448276 0.32773265 0.22533617 0.47173897]\n",
            " [0.29640968 0.32773265 1.03448276 0.4748661  0.3411911 ]\n",
            " [0.05973456 0.22533617 0.4748661  1.03448276 0.48242117]\n",
            " [0.43661824 0.47173897 0.3411911  0.48242117 1.03448276]]\n"
          ],
          "name": "stdout"
        }
      ]
    },
    {
      "cell_type": "code",
      "metadata": {
        "colab": {
          "base_uri": "https://localhost:8080/"
        },
        "id": "hssV0gYJz8ds",
        "outputId": "cafb198b-1a9c-43f9-8c6d-dd0acdf9aa29"
      },
      "source": [
        "# 寄与率\n",
        "print('寄与率', pca.explained_variance_ratio_)\n",
        "print('累積寄与率', np.cumsum(pca.explained_variance_ratio_).round(4))\n",
        "print('標準偏差', [math.sqrt(u) for u in pca.explained_variance_])"
      ],
      "execution_count": null,
      "outputs": [
        {
          "output_type": "stream",
          "text": [
            "寄与率 [0.47441876 0.20462389 0.13328661 0.11974649 0.06792424]\n",
            "累積寄与率 [0.4744 0.679  0.8123 0.9321 1.    ]\n",
            "標準偏差 [1.5664897504387156, 1.0287854219408723, 0.8303092913573383, 0.7870059735861311, 0.5927328982781863]\n"
          ],
          "name": "stdout"
        }
      ]
    },
    {
      "cell_type": "markdown",
      "metadata": {
        "id": "D_sBwSDm3uvL"
      },
      "source": [
        "結果を見やすくするために、少し高度なことを"
      ]
    },
    {
      "cell_type": "code",
      "metadata": {
        "id": "glHJtJ7P14SB"
      },
      "source": [
        "feature = pca.transform(pca2_s)"
      ],
      "execution_count": null,
      "outputs": []
    },
    {
      "cell_type": "code",
      "metadata": {
        "id": "WE8Qrm-j3q7D"
      },
      "source": [
        "result=pd.DataFrame(feature, index=['生徒{}'.format(xx+1) for xx in range(0,30)],columns=[\"PC{}\".format(x + 1) for x in range(0,5)])"
      ],
      "execution_count": null,
      "outputs": []
    },
    {
      "cell_type": "code",
      "metadata": {
        "colab": {
          "base_uri": "https://localhost:8080/",
          "height": 979
        },
        "id": "Yn4oP-sOCden",
        "outputId": "b6bf3cfc-93d9-4ffb-8b65-21526e9f862e"
      },
      "source": [
        "result"
      ],
      "execution_count": null,
      "outputs": [
        {
          "output_type": "execute_result",
          "data": {
            "text/html": [
              "<div>\n",
              "<style scoped>\n",
              "    .dataframe tbody tr th:only-of-type {\n",
              "        vertical-align: middle;\n",
              "    }\n",
              "\n",
              "    .dataframe tbody tr th {\n",
              "        vertical-align: top;\n",
              "    }\n",
              "\n",
              "    .dataframe thead th {\n",
              "        text-align: right;\n",
              "    }\n",
              "</style>\n",
              "<table border=\"1\" class=\"dataframe\">\n",
              "  <thead>\n",
              "    <tr style=\"text-align: right;\">\n",
              "      <th></th>\n",
              "      <th>PC1</th>\n",
              "      <th>PC2</th>\n",
              "      <th>PC3</th>\n",
              "      <th>PC4</th>\n",
              "      <th>PC5</th>\n",
              "    </tr>\n",
              "  </thead>\n",
              "  <tbody>\n",
              "    <tr>\n",
              "      <th>生徒1</th>\n",
              "      <td>-0.888267</td>\n",
              "      <td>-0.987770</td>\n",
              "      <td>-0.618164</td>\n",
              "      <td>-0.481907</td>\n",
              "      <td>-0.515554</td>\n",
              "    </tr>\n",
              "    <tr>\n",
              "      <th>生徒2</th>\n",
              "      <td>-0.156579</td>\n",
              "      <td>-0.047913</td>\n",
              "      <td>-0.793852</td>\n",
              "      <td>-0.613247</td>\n",
              "      <td>0.529379</td>\n",
              "    </tr>\n",
              "    <tr>\n",
              "      <th>生徒3</th>\n",
              "      <td>-1.604560</td>\n",
              "      <td>-0.226310</td>\n",
              "      <td>-0.090636</td>\n",
              "      <td>0.206633</td>\n",
              "      <td>-0.131503</td>\n",
              "    </tr>\n",
              "    <tr>\n",
              "      <th>生徒4</th>\n",
              "      <td>3.417245</td>\n",
              "      <td>-2.569956</td>\n",
              "      <td>-0.536903</td>\n",
              "      <td>1.018588</td>\n",
              "      <td>0.217753</td>\n",
              "    </tr>\n",
              "    <tr>\n",
              "      <th>生徒5</th>\n",
              "      <td>-1.629077</td>\n",
              "      <td>0.775651</td>\n",
              "      <td>0.561307</td>\n",
              "      <td>-0.088647</td>\n",
              "      <td>0.958245</td>\n",
              "    </tr>\n",
              "    <tr>\n",
              "      <th>生徒6</th>\n",
              "      <td>1.975803</td>\n",
              "      <td>1.555088</td>\n",
              "      <td>1.339740</td>\n",
              "      <td>0.003097</td>\n",
              "      <td>0.947671</td>\n",
              "    </tr>\n",
              "    <tr>\n",
              "      <th>生徒7</th>\n",
              "      <td>-3.102432</td>\n",
              "      <td>-1.143023</td>\n",
              "      <td>2.238405</td>\n",
              "      <td>-0.378821</td>\n",
              "      <td>-0.654837</td>\n",
              "    </tr>\n",
              "    <tr>\n",
              "      <th>生徒8</th>\n",
              "      <td>-0.587037</td>\n",
              "      <td>0.285869</td>\n",
              "      <td>0.437783</td>\n",
              "      <td>0.413737</td>\n",
              "      <td>0.002870</td>\n",
              "    </tr>\n",
              "    <tr>\n",
              "      <th>生徒9</th>\n",
              "      <td>0.485895</td>\n",
              "      <td>-0.453324</td>\n",
              "      <td>1.461627</td>\n",
              "      <td>0.000409</td>\n",
              "      <td>0.537631</td>\n",
              "    </tr>\n",
              "    <tr>\n",
              "      <th>生徒10</th>\n",
              "      <td>0.909587</td>\n",
              "      <td>0.011404</td>\n",
              "      <td>0.083217</td>\n",
              "      <td>-0.456213</td>\n",
              "      <td>-0.619743</td>\n",
              "    </tr>\n",
              "    <tr>\n",
              "      <th>生徒11</th>\n",
              "      <td>-0.384305</td>\n",
              "      <td>0.857678</td>\n",
              "      <td>-0.753798</td>\n",
              "      <td>-0.595326</td>\n",
              "      <td>0.247673</td>\n",
              "    </tr>\n",
              "    <tr>\n",
              "      <th>生徒12</th>\n",
              "      <td>-0.620175</td>\n",
              "      <td>0.521136</td>\n",
              "      <td>-0.746599</td>\n",
              "      <td>-0.572416</td>\n",
              "      <td>-0.343601</td>\n",
              "    </tr>\n",
              "    <tr>\n",
              "      <th>生徒13</th>\n",
              "      <td>2.592101</td>\n",
              "      <td>-0.962486</td>\n",
              "      <td>0.969903</td>\n",
              "      <td>-0.498292</td>\n",
              "      <td>-0.036963</td>\n",
              "    </tr>\n",
              "    <tr>\n",
              "      <th>生徒14</th>\n",
              "      <td>1.646851</td>\n",
              "      <td>-0.069467</td>\n",
              "      <td>0.481338</td>\n",
              "      <td>-0.727210</td>\n",
              "      <td>-0.462590</td>\n",
              "    </tr>\n",
              "    <tr>\n",
              "      <th>生徒15</th>\n",
              "      <td>-1.209458</td>\n",
              "      <td>0.849185</td>\n",
              "      <td>-0.360576</td>\n",
              "      <td>0.512273</td>\n",
              "      <td>-0.296569</td>\n",
              "    </tr>\n",
              "    <tr>\n",
              "      <th>生徒16</th>\n",
              "      <td>-0.802391</td>\n",
              "      <td>-0.387227</td>\n",
              "      <td>-1.586198</td>\n",
              "      <td>-0.502799</td>\n",
              "      <td>0.695008</td>\n",
              "    </tr>\n",
              "    <tr>\n",
              "      <th>生徒17</th>\n",
              "      <td>1.750945</td>\n",
              "      <td>-0.021444</td>\n",
              "      <td>-0.877133</td>\n",
              "      <td>-0.700084</td>\n",
              "      <td>-0.113442</td>\n",
              "    </tr>\n",
              "    <tr>\n",
              "      <th>生徒18</th>\n",
              "      <td>-1.520223</td>\n",
              "      <td>1.065270</td>\n",
              "      <td>-0.290470</td>\n",
              "      <td>-0.088248</td>\n",
              "      <td>0.454368</td>\n",
              "    </tr>\n",
              "    <tr>\n",
              "      <th>生徒19</th>\n",
              "      <td>-1.902438</td>\n",
              "      <td>-0.401260</td>\n",
              "      <td>-0.228444</td>\n",
              "      <td>-0.319087</td>\n",
              "      <td>-0.177204</td>\n",
              "    </tr>\n",
              "    <tr>\n",
              "      <th>生徒20</th>\n",
              "      <td>1.956663</td>\n",
              "      <td>0.691310</td>\n",
              "      <td>-0.039014</td>\n",
              "      <td>-0.560179</td>\n",
              "      <td>0.691189</td>\n",
              "    </tr>\n",
              "    <tr>\n",
              "      <th>生徒21</th>\n",
              "      <td>0.223056</td>\n",
              "      <td>-0.714112</td>\n",
              "      <td>-0.192253</td>\n",
              "      <td>-0.653339</td>\n",
              "      <td>-0.857515</td>\n",
              "    </tr>\n",
              "    <tr>\n",
              "      <th>生徒22</th>\n",
              "      <td>-0.372354</td>\n",
              "      <td>-0.910818</td>\n",
              "      <td>-0.272232</td>\n",
              "      <td>-0.822937</td>\n",
              "      <td>-0.563465</td>\n",
              "    </tr>\n",
              "    <tr>\n",
              "      <th>生徒23</th>\n",
              "      <td>-1.187809</td>\n",
              "      <td>-0.473996</td>\n",
              "      <td>0.821007</td>\n",
              "      <td>-0.462404</td>\n",
              "      <td>0.358469</td>\n",
              "    </tr>\n",
              "    <tr>\n",
              "      <th>生徒24</th>\n",
              "      <td>0.374124</td>\n",
              "      <td>-0.454580</td>\n",
              "      <td>-1.183127</td>\n",
              "      <td>1.021271</td>\n",
              "      <td>-0.582937</td>\n",
              "    </tr>\n",
              "    <tr>\n",
              "      <th>生徒25</th>\n",
              "      <td>0.520463</td>\n",
              "      <td>-0.694669</td>\n",
              "      <td>0.558697</td>\n",
              "      <td>-0.190250</td>\n",
              "      <td>0.347148</td>\n",
              "    </tr>\n",
              "    <tr>\n",
              "      <th>生徒26</th>\n",
              "      <td>-1.297909</td>\n",
              "      <td>-1.335174</td>\n",
              "      <td>-0.038204</td>\n",
              "      <td>2.756560</td>\n",
              "      <td>0.718478</td>\n",
              "    </tr>\n",
              "    <tr>\n",
              "      <th>生徒27</th>\n",
              "      <td>2.340044</td>\n",
              "      <td>1.214579</td>\n",
              "      <td>0.532930</td>\n",
              "      <td>1.196082</td>\n",
              "      <td>-0.885589</td>\n",
              "    </tr>\n",
              "    <tr>\n",
              "      <th>生徒28</th>\n",
              "      <td>-1.666215</td>\n",
              "      <td>1.073383</td>\n",
              "      <td>-0.075347</td>\n",
              "      <td>1.000641</td>\n",
              "      <td>-0.839485</td>\n",
              "    </tr>\n",
              "    <tr>\n",
              "      <th>生徒29</th>\n",
              "      <td>-0.465074</td>\n",
              "      <td>0.285108</td>\n",
              "      <td>-0.766681</td>\n",
              "      <td>-0.067958</td>\n",
              "      <td>0.977555</td>\n",
              "    </tr>\n",
              "    <tr>\n",
              "      <th>生徒30</th>\n",
              "      <td>1.203524</td>\n",
              "      <td>2.667869</td>\n",
              "      <td>-0.036323</td>\n",
              "      <td>0.650071</td>\n",
              "      <td>-0.602441</td>\n",
              "    </tr>\n",
              "  </tbody>\n",
              "</table>\n",
              "</div>"
            ],
            "text/plain": [
              "           PC1       PC2       PC3       PC4       PC5\n",
              "生徒1  -0.888267 -0.987770 -0.618164 -0.481907 -0.515554\n",
              "生徒2  -0.156579 -0.047913 -0.793852 -0.613247  0.529379\n",
              "生徒3  -1.604560 -0.226310 -0.090636  0.206633 -0.131503\n",
              "生徒4   3.417245 -2.569956 -0.536903  1.018588  0.217753\n",
              "生徒5  -1.629077  0.775651  0.561307 -0.088647  0.958245\n",
              "生徒6   1.975803  1.555088  1.339740  0.003097  0.947671\n",
              "生徒7  -3.102432 -1.143023  2.238405 -0.378821 -0.654837\n",
              "生徒8  -0.587037  0.285869  0.437783  0.413737  0.002870\n",
              "生徒9   0.485895 -0.453324  1.461627  0.000409  0.537631\n",
              "生徒10  0.909587  0.011404  0.083217 -0.456213 -0.619743\n",
              "生徒11 -0.384305  0.857678 -0.753798 -0.595326  0.247673\n",
              "生徒12 -0.620175  0.521136 -0.746599 -0.572416 -0.343601\n",
              "生徒13  2.592101 -0.962486  0.969903 -0.498292 -0.036963\n",
              "生徒14  1.646851 -0.069467  0.481338 -0.727210 -0.462590\n",
              "生徒15 -1.209458  0.849185 -0.360576  0.512273 -0.296569\n",
              "生徒16 -0.802391 -0.387227 -1.586198 -0.502799  0.695008\n",
              "生徒17  1.750945 -0.021444 -0.877133 -0.700084 -0.113442\n",
              "生徒18 -1.520223  1.065270 -0.290470 -0.088248  0.454368\n",
              "生徒19 -1.902438 -0.401260 -0.228444 -0.319087 -0.177204\n",
              "生徒20  1.956663  0.691310 -0.039014 -0.560179  0.691189\n",
              "生徒21  0.223056 -0.714112 -0.192253 -0.653339 -0.857515\n",
              "生徒22 -0.372354 -0.910818 -0.272232 -0.822937 -0.563465\n",
              "生徒23 -1.187809 -0.473996  0.821007 -0.462404  0.358469\n",
              "生徒24  0.374124 -0.454580 -1.183127  1.021271 -0.582937\n",
              "生徒25  0.520463 -0.694669  0.558697 -0.190250  0.347148\n",
              "生徒26 -1.297909 -1.335174 -0.038204  2.756560  0.718478\n",
              "生徒27  2.340044  1.214579  0.532930  1.196082 -0.885589\n",
              "生徒28 -1.666215  1.073383 -0.075347  1.000641 -0.839485\n",
              "生徒29 -0.465074  0.285108 -0.766681 -0.067958  0.977555\n",
              "生徒30  1.203524  2.667869 -0.036323  0.650071 -0.602441"
            ]
          },
          "metadata": {
            "tags": []
          },
          "execution_count": 99
        }
      ]
    },
    {
      "cell_type": "code",
      "metadata": {
        "colab": {
          "base_uri": "https://localhost:8080/",
          "height": 979
        },
        "id": "N1EpR9yEJ2GL",
        "outputId": "c14eda6e-7005-46b7-9b22-d62d2eea1473"
      },
      "source": [
        "result=pd.DataFrame(feature)\n",
        "result"
      ],
      "execution_count": null,
      "outputs": [
        {
          "output_type": "execute_result",
          "data": {
            "text/html": [
              "<div>\n",
              "<style scoped>\n",
              "    .dataframe tbody tr th:only-of-type {\n",
              "        vertical-align: middle;\n",
              "    }\n",
              "\n",
              "    .dataframe tbody tr th {\n",
              "        vertical-align: top;\n",
              "    }\n",
              "\n",
              "    .dataframe thead th {\n",
              "        text-align: right;\n",
              "    }\n",
              "</style>\n",
              "<table border=\"1\" class=\"dataframe\">\n",
              "  <thead>\n",
              "    <tr style=\"text-align: right;\">\n",
              "      <th></th>\n",
              "      <th>0</th>\n",
              "      <th>1</th>\n",
              "      <th>2</th>\n",
              "      <th>3</th>\n",
              "      <th>4</th>\n",
              "    </tr>\n",
              "  </thead>\n",
              "  <tbody>\n",
              "    <tr>\n",
              "      <th>0</th>\n",
              "      <td>-0.888267</td>\n",
              "      <td>-0.987770</td>\n",
              "      <td>-0.618164</td>\n",
              "      <td>-0.481907</td>\n",
              "      <td>-0.515554</td>\n",
              "    </tr>\n",
              "    <tr>\n",
              "      <th>1</th>\n",
              "      <td>-0.156579</td>\n",
              "      <td>-0.047913</td>\n",
              "      <td>-0.793852</td>\n",
              "      <td>-0.613247</td>\n",
              "      <td>0.529379</td>\n",
              "    </tr>\n",
              "    <tr>\n",
              "      <th>2</th>\n",
              "      <td>-1.604560</td>\n",
              "      <td>-0.226310</td>\n",
              "      <td>-0.090636</td>\n",
              "      <td>0.206633</td>\n",
              "      <td>-0.131503</td>\n",
              "    </tr>\n",
              "    <tr>\n",
              "      <th>3</th>\n",
              "      <td>3.417245</td>\n",
              "      <td>-2.569956</td>\n",
              "      <td>-0.536903</td>\n",
              "      <td>1.018588</td>\n",
              "      <td>0.217753</td>\n",
              "    </tr>\n",
              "    <tr>\n",
              "      <th>4</th>\n",
              "      <td>-1.629077</td>\n",
              "      <td>0.775651</td>\n",
              "      <td>0.561307</td>\n",
              "      <td>-0.088647</td>\n",
              "      <td>0.958245</td>\n",
              "    </tr>\n",
              "    <tr>\n",
              "      <th>5</th>\n",
              "      <td>1.975803</td>\n",
              "      <td>1.555088</td>\n",
              "      <td>1.339740</td>\n",
              "      <td>0.003097</td>\n",
              "      <td>0.947671</td>\n",
              "    </tr>\n",
              "    <tr>\n",
              "      <th>6</th>\n",
              "      <td>-3.102432</td>\n",
              "      <td>-1.143023</td>\n",
              "      <td>2.238405</td>\n",
              "      <td>-0.378821</td>\n",
              "      <td>-0.654837</td>\n",
              "    </tr>\n",
              "    <tr>\n",
              "      <th>7</th>\n",
              "      <td>-0.587037</td>\n",
              "      <td>0.285869</td>\n",
              "      <td>0.437783</td>\n",
              "      <td>0.413737</td>\n",
              "      <td>0.002870</td>\n",
              "    </tr>\n",
              "    <tr>\n",
              "      <th>8</th>\n",
              "      <td>0.485895</td>\n",
              "      <td>-0.453324</td>\n",
              "      <td>1.461627</td>\n",
              "      <td>0.000409</td>\n",
              "      <td>0.537631</td>\n",
              "    </tr>\n",
              "    <tr>\n",
              "      <th>9</th>\n",
              "      <td>0.909587</td>\n",
              "      <td>0.011404</td>\n",
              "      <td>0.083217</td>\n",
              "      <td>-0.456213</td>\n",
              "      <td>-0.619743</td>\n",
              "    </tr>\n",
              "    <tr>\n",
              "      <th>10</th>\n",
              "      <td>-0.384305</td>\n",
              "      <td>0.857678</td>\n",
              "      <td>-0.753798</td>\n",
              "      <td>-0.595326</td>\n",
              "      <td>0.247673</td>\n",
              "    </tr>\n",
              "    <tr>\n",
              "      <th>11</th>\n",
              "      <td>-0.620175</td>\n",
              "      <td>0.521136</td>\n",
              "      <td>-0.746599</td>\n",
              "      <td>-0.572416</td>\n",
              "      <td>-0.343601</td>\n",
              "    </tr>\n",
              "    <tr>\n",
              "      <th>12</th>\n",
              "      <td>2.592101</td>\n",
              "      <td>-0.962486</td>\n",
              "      <td>0.969903</td>\n",
              "      <td>-0.498292</td>\n",
              "      <td>-0.036963</td>\n",
              "    </tr>\n",
              "    <tr>\n",
              "      <th>13</th>\n",
              "      <td>1.646851</td>\n",
              "      <td>-0.069467</td>\n",
              "      <td>0.481338</td>\n",
              "      <td>-0.727210</td>\n",
              "      <td>-0.462590</td>\n",
              "    </tr>\n",
              "    <tr>\n",
              "      <th>14</th>\n",
              "      <td>-1.209458</td>\n",
              "      <td>0.849185</td>\n",
              "      <td>-0.360576</td>\n",
              "      <td>0.512273</td>\n",
              "      <td>-0.296569</td>\n",
              "    </tr>\n",
              "    <tr>\n",
              "      <th>15</th>\n",
              "      <td>-0.802391</td>\n",
              "      <td>-0.387227</td>\n",
              "      <td>-1.586198</td>\n",
              "      <td>-0.502799</td>\n",
              "      <td>0.695008</td>\n",
              "    </tr>\n",
              "    <tr>\n",
              "      <th>16</th>\n",
              "      <td>1.750945</td>\n",
              "      <td>-0.021444</td>\n",
              "      <td>-0.877133</td>\n",
              "      <td>-0.700084</td>\n",
              "      <td>-0.113442</td>\n",
              "    </tr>\n",
              "    <tr>\n",
              "      <th>17</th>\n",
              "      <td>-1.520223</td>\n",
              "      <td>1.065270</td>\n",
              "      <td>-0.290470</td>\n",
              "      <td>-0.088248</td>\n",
              "      <td>0.454368</td>\n",
              "    </tr>\n",
              "    <tr>\n",
              "      <th>18</th>\n",
              "      <td>-1.902438</td>\n",
              "      <td>-0.401260</td>\n",
              "      <td>-0.228444</td>\n",
              "      <td>-0.319087</td>\n",
              "      <td>-0.177204</td>\n",
              "    </tr>\n",
              "    <tr>\n",
              "      <th>19</th>\n",
              "      <td>1.956663</td>\n",
              "      <td>0.691310</td>\n",
              "      <td>-0.039014</td>\n",
              "      <td>-0.560179</td>\n",
              "      <td>0.691189</td>\n",
              "    </tr>\n",
              "    <tr>\n",
              "      <th>20</th>\n",
              "      <td>0.223056</td>\n",
              "      <td>-0.714112</td>\n",
              "      <td>-0.192253</td>\n",
              "      <td>-0.653339</td>\n",
              "      <td>-0.857515</td>\n",
              "    </tr>\n",
              "    <tr>\n",
              "      <th>21</th>\n",
              "      <td>-0.372354</td>\n",
              "      <td>-0.910818</td>\n",
              "      <td>-0.272232</td>\n",
              "      <td>-0.822937</td>\n",
              "      <td>-0.563465</td>\n",
              "    </tr>\n",
              "    <tr>\n",
              "      <th>22</th>\n",
              "      <td>-1.187809</td>\n",
              "      <td>-0.473996</td>\n",
              "      <td>0.821007</td>\n",
              "      <td>-0.462404</td>\n",
              "      <td>0.358469</td>\n",
              "    </tr>\n",
              "    <tr>\n",
              "      <th>23</th>\n",
              "      <td>0.374124</td>\n",
              "      <td>-0.454580</td>\n",
              "      <td>-1.183127</td>\n",
              "      <td>1.021271</td>\n",
              "      <td>-0.582937</td>\n",
              "    </tr>\n",
              "    <tr>\n",
              "      <th>24</th>\n",
              "      <td>0.520463</td>\n",
              "      <td>-0.694669</td>\n",
              "      <td>0.558697</td>\n",
              "      <td>-0.190250</td>\n",
              "      <td>0.347148</td>\n",
              "    </tr>\n",
              "    <tr>\n",
              "      <th>25</th>\n",
              "      <td>-1.297909</td>\n",
              "      <td>-1.335174</td>\n",
              "      <td>-0.038204</td>\n",
              "      <td>2.756560</td>\n",
              "      <td>0.718478</td>\n",
              "    </tr>\n",
              "    <tr>\n",
              "      <th>26</th>\n",
              "      <td>2.340044</td>\n",
              "      <td>1.214579</td>\n",
              "      <td>0.532930</td>\n",
              "      <td>1.196082</td>\n",
              "      <td>-0.885589</td>\n",
              "    </tr>\n",
              "    <tr>\n",
              "      <th>27</th>\n",
              "      <td>-1.666215</td>\n",
              "      <td>1.073383</td>\n",
              "      <td>-0.075347</td>\n",
              "      <td>1.000641</td>\n",
              "      <td>-0.839485</td>\n",
              "    </tr>\n",
              "    <tr>\n",
              "      <th>28</th>\n",
              "      <td>-0.465074</td>\n",
              "      <td>0.285108</td>\n",
              "      <td>-0.766681</td>\n",
              "      <td>-0.067958</td>\n",
              "      <td>0.977555</td>\n",
              "    </tr>\n",
              "    <tr>\n",
              "      <th>29</th>\n",
              "      <td>1.203524</td>\n",
              "      <td>2.667869</td>\n",
              "      <td>-0.036323</td>\n",
              "      <td>0.650071</td>\n",
              "      <td>-0.602441</td>\n",
              "    </tr>\n",
              "  </tbody>\n",
              "</table>\n",
              "</div>"
            ],
            "text/plain": [
              "           0         1         2         3         4\n",
              "0  -0.888267 -0.987770 -0.618164 -0.481907 -0.515554\n",
              "1  -0.156579 -0.047913 -0.793852 -0.613247  0.529379\n",
              "2  -1.604560 -0.226310 -0.090636  0.206633 -0.131503\n",
              "3   3.417245 -2.569956 -0.536903  1.018588  0.217753\n",
              "4  -1.629077  0.775651  0.561307 -0.088647  0.958245\n",
              "5   1.975803  1.555088  1.339740  0.003097  0.947671\n",
              "6  -3.102432 -1.143023  2.238405 -0.378821 -0.654837\n",
              "7  -0.587037  0.285869  0.437783  0.413737  0.002870\n",
              "8   0.485895 -0.453324  1.461627  0.000409  0.537631\n",
              "9   0.909587  0.011404  0.083217 -0.456213 -0.619743\n",
              "10 -0.384305  0.857678 -0.753798 -0.595326  0.247673\n",
              "11 -0.620175  0.521136 -0.746599 -0.572416 -0.343601\n",
              "12  2.592101 -0.962486  0.969903 -0.498292 -0.036963\n",
              "13  1.646851 -0.069467  0.481338 -0.727210 -0.462590\n",
              "14 -1.209458  0.849185 -0.360576  0.512273 -0.296569\n",
              "15 -0.802391 -0.387227 -1.586198 -0.502799  0.695008\n",
              "16  1.750945 -0.021444 -0.877133 -0.700084 -0.113442\n",
              "17 -1.520223  1.065270 -0.290470 -0.088248  0.454368\n",
              "18 -1.902438 -0.401260 -0.228444 -0.319087 -0.177204\n",
              "19  1.956663  0.691310 -0.039014 -0.560179  0.691189\n",
              "20  0.223056 -0.714112 -0.192253 -0.653339 -0.857515\n",
              "21 -0.372354 -0.910818 -0.272232 -0.822937 -0.563465\n",
              "22 -1.187809 -0.473996  0.821007 -0.462404  0.358469\n",
              "23  0.374124 -0.454580 -1.183127  1.021271 -0.582937\n",
              "24  0.520463 -0.694669  0.558697 -0.190250  0.347148\n",
              "25 -1.297909 -1.335174 -0.038204  2.756560  0.718478\n",
              "26  2.340044  1.214579  0.532930  1.196082 -0.885589\n",
              "27 -1.666215  1.073383 -0.075347  1.000641 -0.839485\n",
              "28 -0.465074  0.285108 -0.766681 -0.067958  0.977555\n",
              "29  1.203524  2.667869 -0.036323  0.650071 -0.602441"
            ]
          },
          "metadata": {
            "tags": []
          },
          "execution_count": 126
        }
      ]
    },
    {
      "cell_type": "code",
      "metadata": {
        "id": "SHnmkFGRJ0Bv"
      },
      "source": [
        "result=pd.DataFrame(feature, index=['学生{}'.format(xx+1) for xx in range(0,30)],columns=[\"PC{}\".format(x + 1) for x in range(0,5)])"
      ],
      "execution_count": null,
      "outputs": []
    },
    {
      "cell_type": "code",
      "metadata": {
        "id": "rPx2RnGG6zLW"
      },
      "source": [
        "X=np.array(result['PC1'])\n",
        "Y=np.array(result['PC2'])"
      ],
      "execution_count": null,
      "outputs": []
    },
    {
      "cell_type": "code",
      "metadata": {
        "id": "UuCtaCgu5ipn"
      },
      "source": [
        "annotations=['std{}'.format(xx+1) for xx in range(0,30)]"
      ],
      "execution_count": null,
      "outputs": []
    },
    {
      "cell_type": "code",
      "metadata": {
        "colab": {
          "base_uri": "https://localhost:8080/",
          "height": 497
        },
        "id": "-2Wq-i5u5AX7",
        "outputId": "8adf64cd-6af9-4c40-ea94-2062ff32a7db"
      },
      "source": [
        "plt.figure(figsize=(8, 8))\n",
        "\n",
        "plt.scatter(X, Y, alpha=0.7 )\n",
        "plt.grid()\n",
        "plt.xlabel(\"PC1\")\n",
        "plt.ylabel(\"PC2\")\n",
        "for i, label in enumerate(annotations):\n",
        "   plt.annotate(label, (X[i], Y[i]))\n",
        "plt.show()"
      ],
      "execution_count": null,
      "outputs": [
        {
          "output_type": "display_data",
          "data": {
            "image/png": "[encoded data removed]",
            "text/plain": [
              "<Figure size 576x576 with 1 Axes>"
            ]
          },
          "metadata": {
            "tags": [],
            "needs_background": "light"
          }
        }
      ]
    },
    {
      "cell_type": "markdown",
      "metadata": {
        "id": "k0rtGA3L-yGF"
      },
      "source": [
        "主成分として抽出したFACTOR１とFACTOR２が、学生１～30までにどのように採用しているのか、その大きさ（負荷）を計算するというやっかいな作業があります。この説明は、我々のレベルを超えております。ですので、おまじないBOXで計算したものとして出力できるようだけしておきます。第一ステップは、分からない所を気にしないこともコツです。\n",
        "国語\t社会\t数学\t理科\t英語 の負荷を計算します。"
      ]
    },
    {
      "cell_type": "code",
      "metadata": {
        "colab": {
          "base_uri": "https://localhost:8080/"
        },
        "id": "GIkxx_f6-tt3",
        "outputId": "4d3e9185-f5bb-4080-f1d7-05f58895cd97"
      },
      "source": [
        "u = pd.DataFrame([ [math.sqrt(u) for u in pca.explained_variance_] ] * 9)\n",
        "u0 = u[0][0]\n",
        "pca_components = pd.DataFrame(pca.components_)\n",
        "x = pca.components_[0, :] * u0\n",
        "y = pca.components_[1, :] * u0\n",
        "fuka = (np.array([x, y])).T\n",
        "print('負荷\\n', fuka.round(4))"
      ],
      "execution_count": null,
      "outputs": [
        {
          "output_type": "stream",
          "text": [
            "負荷\n",
            " [[ 0.6161 -0.9553]\n",
            " [ 0.7037 -0.5119]\n",
            " [ 0.704   0.4816]\n",
            " [ 0.6496  1.0213]\n",
            " [ 0.8134 -0.066 ]]\n"
          ],
          "name": "stdout"
        }
      ]
    },
    {
      "cell_type": "markdown",
      "metadata": {
        "id": "_e7pXdJ82vEX"
      },
      "source": [
        "補足　繰り返し計算\n",
        "同じ仕事を繰り返す。"
      ]
    },
    {
      "cell_type": "code",
      "metadata": {
        "colab": {
          "base_uri": "https://localhost:8080/"
        },
        "id": "LUoWdPci3GDL",
        "outputId": "0793caee-82c3-4cdb-9ae8-feec5457b902"
      },
      "source": [
        "for hensuu in range(3):\n",
        "#この下に繰り返したいものを書く\n",
        "  print(hensuu,'回')\n",
        "#　（プログラム上の話　FOR文などどでは、） タブKEYというのが必要なんですね。  "
      ],
      "execution_count": null,
      "outputs": [
        {
          "output_type": "stream",
          "text": [
            "0 回\n",
            "1 回\n",
            "2 回\n"
          ],
          "name": "stdout"
        }
      ]
    },
    {
      "cell_type": "code",
      "metadata": {
        "colab": {
          "base_uri": "https://localhost:8080/"
        },
        "id": "zlVlEsAd5Qto",
        "outputId": "744d7337-5087-43aa-d719-e16518a0427e"
      },
      "source": [
        "for hensuu in range(0,5):\n",
        "#この下に繰り返したいものを書く\n",
        "  print(hensuu,'回')"
      ],
      "execution_count": null,
      "outputs": [
        {
          "output_type": "stream",
          "text": [
            "0 回\n",
            "1 回\n",
            "2 回\n",
            "3 回\n",
            "4 回\n"
          ],
          "name": "stdout"
        }
      ]
    },
    {
      "cell_type": "code",
      "metadata": {
        "id": "6imSsX8R4pF7"
      },
      "source": [
        ""
      ],
      "execution_count": null,
      "outputs": []
    },
    {
      "cell_type": "markdown",
      "metadata": {
        "id": "wyk-Sh4a8t1a"
      },
      "source": [
        "**Kmeans法**\n",
        "主成分分析と似たような感じですが、グループを分ける、クラスタリングするための一つの方法です。"
      ]
    },
    {
      "cell_type": "code",
      "metadata": {
        "id": "Nq0KqScU6vPe"
      },
      "source": [
        "import numpy as np\n",
        "import matplotlib.pyplot as plt\n",
        "import pandas as pd\n"
      ],
      "execution_count": null,
      "outputs": []
    },
    {
      "cell_type": "code",
      "metadata": {
        "id": "iYhlwrVrak8Q"
      },
      "source": [
        "from sklearn.cluster import KMeans"
      ],
      "execution_count": null,
      "outputs": []
    },
    {
      "cell_type": "code",
      "metadata": {
        "colab": {
          "base_uri": "https://localhost:8080/",
          "height": 204
        },
        "id": "8p5iq3kDbLG1",
        "outputId": "acae08af-414f-498f-c3da-dfc7fde4e9ed"
      },
      "source": [
        "pca1=pd.read_csv('/content/sample_data/seiseki.csv')\n",
        "pca1.head()"
      ],
      "execution_count": null,
      "outputs": [
        {
          "output_type": "execute_result",
          "data": {
            "text/html": [
              "<div>\n",
              "<style scoped>\n",
              "    .dataframe tbody tr th:only-of-type {\n",
              "        vertical-align: middle;\n",
              "    }\n",
              "\n",
              "    .dataframe tbody tr th {\n",
              "        vertical-align: top;\n",
              "    }\n",
              "\n",
              "    .dataframe thead th {\n",
              "        text-align: right;\n",
              "    }\n",
              "</style>\n",
              "<table border=\"1\" class=\"dataframe\">\n",
              "  <thead>\n",
              "    <tr style=\"text-align: right;\">\n",
              "      <th></th>\n",
              "      <th>学籍番号</th>\n",
              "      <th>国語</th>\n",
              "      <th>社会</th>\n",
              "      <th>数学</th>\n",
              "      <th>理科</th>\n",
              "      <th>英語</th>\n",
              "    </tr>\n",
              "  </thead>\n",
              "  <tbody>\n",
              "    <tr>\n",
              "      <th>0</th>\n",
              "      <td>1</td>\n",
              "      <td>42</td>\n",
              "      <td>49</td>\n",
              "      <td>42</td>\n",
              "      <td>35</td>\n",
              "      <td>48</td>\n",
              "    </tr>\n",
              "    <tr>\n",
              "      <th>1</th>\n",
              "      <td>2</td>\n",
              "      <td>42</td>\n",
              "      <td>52</td>\n",
              "      <td>43</td>\n",
              "      <td>49</td>\n",
              "      <td>46</td>\n",
              "    </tr>\n",
              "    <tr>\n",
              "      <th>2</th>\n",
              "      <td>3</td>\n",
              "      <td>41</td>\n",
              "      <td>39</td>\n",
              "      <td>42</td>\n",
              "      <td>39</td>\n",
              "      <td>43</td>\n",
              "    </tr>\n",
              "    <tr>\n",
              "      <th>3</th>\n",
              "      <td>4</td>\n",
              "      <td>77</td>\n",
              "      <td>61</td>\n",
              "      <td>48</td>\n",
              "      <td>48</td>\n",
              "      <td>67</td>\n",
              "    </tr>\n",
              "    <tr>\n",
              "      <th>4</th>\n",
              "      <td>5</td>\n",
              "      <td>40</td>\n",
              "      <td>38</td>\n",
              "      <td>45</td>\n",
              "      <td>49</td>\n",
              "      <td>34</td>\n",
              "    </tr>\n",
              "  </tbody>\n",
              "</table>\n",
              "</div>"
            ],
            "text/plain": [
              "   学籍番号  国語  社会  数学  理科  英語\n",
              "0     1  42  49  42  35  48\n",
              "1     2  42  52  43  49  46\n",
              "2     3  41  39  42  39  43\n",
              "3     4  77  61  48  48  67\n",
              "4     5  40  38  45  49  34"
            ]
          },
          "metadata": {
            "tags": []
          },
          "execution_count": 107
        }
      ]
    },
    {
      "cell_type": "code",
      "metadata": {
        "colab": {
          "base_uri": "https://localhost:8080/",
          "height": 204
        },
        "id": "PyTTPm98bm90",
        "outputId": "cbf87b0a-d5af-4053-a0f0-884eab9be54e"
      },
      "source": [
        "pca2= pca1.loc[:,['国語','理科','英語','数学','社会']]\n",
        "pca2.head()"
      ],
      "execution_count": null,
      "outputs": [
        {
          "output_type": "execute_result",
          "data": {
            "text/html": [
              "<div>\n",
              "<style scoped>\n",
              "    .dataframe tbody tr th:only-of-type {\n",
              "        vertical-align: middle;\n",
              "    }\n",
              "\n",
              "    .dataframe tbody tr th {\n",
              "        vertical-align: top;\n",
              "    }\n",
              "\n",
              "    .dataframe thead th {\n",
              "        text-align: right;\n",
              "    }\n",
              "</style>\n",
              "<table border=\"1\" class=\"dataframe\">\n",
              "  <thead>\n",
              "    <tr style=\"text-align: right;\">\n",
              "      <th></th>\n",
              "      <th>国語</th>\n",
              "      <th>理科</th>\n",
              "      <th>英語</th>\n",
              "      <th>数学</th>\n",
              "      <th>社会</th>\n",
              "    </tr>\n",
              "  </thead>\n",
              "  <tbody>\n",
              "    <tr>\n",
              "      <th>0</th>\n",
              "      <td>42</td>\n",
              "      <td>35</td>\n",
              "      <td>48</td>\n",
              "      <td>42</td>\n",
              "      <td>49</td>\n",
              "    </tr>\n",
              "    <tr>\n",
              "      <th>1</th>\n",
              "      <td>42</td>\n",
              "      <td>49</td>\n",
              "      <td>46</td>\n",
              "      <td>43</td>\n",
              "      <td>52</td>\n",
              "    </tr>\n",
              "    <tr>\n",
              "      <th>2</th>\n",
              "      <td>41</td>\n",
              "      <td>39</td>\n",
              "      <td>43</td>\n",
              "      <td>42</td>\n",
              "      <td>39</td>\n",
              "    </tr>\n",
              "    <tr>\n",
              "      <th>3</th>\n",
              "      <td>77</td>\n",
              "      <td>48</td>\n",
              "      <td>67</td>\n",
              "      <td>48</td>\n",
              "      <td>61</td>\n",
              "    </tr>\n",
              "    <tr>\n",
              "      <th>4</th>\n",
              "      <td>40</td>\n",
              "      <td>49</td>\n",
              "      <td>34</td>\n",
              "      <td>45</td>\n",
              "      <td>38</td>\n",
              "    </tr>\n",
              "  </tbody>\n",
              "</table>\n",
              "</div>"
            ],
            "text/plain": [
              "   国語  理科  英語  数学  社会\n",
              "0  42  35  48  42  49\n",
              "1  42  49  46  43  52\n",
              "2  41  39  43  42  39\n",
              "3  77  48  67  48  61\n",
              "4  40  49  34  45  38"
            ]
          },
          "metadata": {
            "tags": []
          },
          "execution_count": 108
        }
      ]
    },
    {
      "cell_type": "markdown",
      "metadata": {
        "id": "T9NjkqZ0nlBG"
      },
      "source": [
        ""
      ]
    },
    {
      "cell_type": "code",
      "metadata": {
        "colab": {
          "base_uri": "https://localhost:8080/",
          "height": 204
        },
        "id": "65UJBQ1sjXUx",
        "outputId": "75c0b48a-f4bd-4aed-ff8d-b890243fb8e6"
      },
      "source": [
        "pca2_new = pca2.rename(columns={'国語':'kokugo','理科':'science','英語':'Eng','数学':'Math','社会':'syakai'})\n",
        "pca2_new.head()"
      ],
      "execution_count": null,
      "outputs": [
        {
          "output_type": "execute_result",
          "data": {
            "text/html": [
              "<div>\n",
              "<style scoped>\n",
              "    .dataframe tbody tr th:only-of-type {\n",
              "        vertical-align: middle;\n",
              "    }\n",
              "\n",
              "    .dataframe tbody tr th {\n",
              "        vertical-align: top;\n",
              "    }\n",
              "\n",
              "    .dataframe thead th {\n",
              "        text-align: right;\n",
              "    }\n",
              "</style>\n",
              "<table border=\"1\" class=\"dataframe\">\n",
              "  <thead>\n",
              "    <tr style=\"text-align: right;\">\n",
              "      <th></th>\n",
              "      <th>kokugo</th>\n",
              "      <th>science</th>\n",
              "      <th>Eng</th>\n",
              "      <th>Math</th>\n",
              "      <th>syakai</th>\n",
              "    </tr>\n",
              "  </thead>\n",
              "  <tbody>\n",
              "    <tr>\n",
              "      <th>0</th>\n",
              "      <td>42</td>\n",
              "      <td>35</td>\n",
              "      <td>48</td>\n",
              "      <td>42</td>\n",
              "      <td>49</td>\n",
              "    </tr>\n",
              "    <tr>\n",
              "      <th>1</th>\n",
              "      <td>42</td>\n",
              "      <td>49</td>\n",
              "      <td>46</td>\n",
              "      <td>43</td>\n",
              "      <td>52</td>\n",
              "    </tr>\n",
              "    <tr>\n",
              "      <th>2</th>\n",
              "      <td>41</td>\n",
              "      <td>39</td>\n",
              "      <td>43</td>\n",
              "      <td>42</td>\n",
              "      <td>39</td>\n",
              "    </tr>\n",
              "    <tr>\n",
              "      <th>3</th>\n",
              "      <td>77</td>\n",
              "      <td>48</td>\n",
              "      <td>67</td>\n",
              "      <td>48</td>\n",
              "      <td>61</td>\n",
              "    </tr>\n",
              "    <tr>\n",
              "      <th>4</th>\n",
              "      <td>40</td>\n",
              "      <td>49</td>\n",
              "      <td>34</td>\n",
              "      <td>45</td>\n",
              "      <td>38</td>\n",
              "    </tr>\n",
              "  </tbody>\n",
              "</table>\n",
              "</div>"
            ],
            "text/plain": [
              "   kokugo  science  Eng  Math  syakai\n",
              "0      42       35   48    42      49\n",
              "1      42       49   46    43      52\n",
              "2      41       39   43    42      39\n",
              "3      77       48   67    48      61\n",
              "4      40       49   34    45      38"
            ]
          },
          "metadata": {
            "tags": []
          },
          "execution_count": 109
        }
      ]
    },
    {
      "cell_type": "code",
      "metadata": {
        "id": "KCEu03a6b2co"
      },
      "source": [
        "kmeans =KMeans(n_clusters=3).fit(pca2)\n"
      ],
      "execution_count": null,
      "outputs": []
    },
    {
      "cell_type": "code",
      "metadata": {
        "colab": {
          "base_uri": "https://localhost:8080/"
        },
        "id": "ca95m3mfcTI3",
        "outputId": "6543369b-ece0-42ae-e08a-cbb4888c4d27"
      },
      "source": [
        "label=kmeans.labels_\n",
        "label"
      ],
      "execution_count": null,
      "outputs": [
        {
          "output_type": "execute_result",
          "data": {
            "text/plain": [
              "array([1, 1, 1, 2, 1, 0, 1, 1, 2, 2, 1, 1, 2, 2, 1, 1, 2, 1, 1, 0, 2, 1,\n",
              "       1, 2, 2, 1, 0, 1, 1, 0], dtype=int32)"
            ]
          },
          "metadata": {
            "tags": []
          },
          "execution_count": 111
        }
      ]
    },
    {
      "cell_type": "code",
      "metadata": {
        "id": "P4VMfPnzagBF"
      },
      "source": [
        "from pandas.plotting import scatter_matrix"
      ],
      "execution_count": null,
      "outputs": []
    },
    {
      "cell_type": "code",
      "metadata": {
        "id": "XEly3rkxgLKx"
      },
      "source": [
        "color_codes = {0:'#00FF00', 1:'#FF0000', 2:'#0000FF'}"
      ],
      "execution_count": null,
      "outputs": []
    },
    {
      "cell_type": "code",
      "metadata": {
        "id": "qzvpwusAgRIm"
      },
      "source": [
        "colors = [color_codes[x] for x in label]"
      ],
      "execution_count": null,
      "outputs": []
    },
    {
      "cell_type": "code",
      "metadata": {
        "colab": {
          "base_uri": "https://localhost:8080/",
          "height": 497
        },
        "id": "sGBvKcnybkOI",
        "outputId": "9bb1c765-655d-4231-8747-a96a3207b7fa"
      },
      "source": [
        "#全体像を眺める\n",
        "scatter_matrix(pca2_new[pca2_new.columns[0:]], figsize=(8,8), color=colors, alpha=0.9, diagonal='kde')  \n",
        "plt.show()"
      ],
      "execution_count": null,
      "outputs": [
        {
          "output_type": "display_data",
          "data": {
            "image/png": "[encoded data removed]",
            "text/plain": [
              "<Figure size 576x576 with 25 Axes>"
            ]
          },
          "metadata": {
            "tags": [],
            "needs_background": "light"
          }
        }
      ]
    },
    {
      "cell_type": "code",
      "metadata": {
        "id": "Z116rrs_uBBE"
      },
      "source": [
        ""
      ],
      "execution_count": null,
      "outputs": []
    },
    {
      "cell_type": "markdown",
      "metadata": {
        "id": "n5APCXK944mK"
      },
      "source": [
        "それじゃ、３つのグループに分けたKMEANSの分析と、主成分分析をドッキングしてみます。このクラスを3つのグループに分けるとすれば、以下のような集団になるということですね。"
      ]
    },
    {
      "cell_type": "code",
      "metadata": {
        "colab": {
          "base_uri": "https://localhost:8080/",
          "height": 497
        },
        "id": "3ZVBpG_huCQ_",
        "outputId": "e728765e-2be7-4595-bed5-13cc10d26258"
      },
      "source": [
        "plt.figure(figsize=(8, 8))\n",
        "\n",
        "plt.scatter(X, Y, alpha=0.7,color=colors )\n",
        "plt.grid()\n",
        "plt.xlabel(\"PC1\")\n",
        "plt.ylabel(\"PC2\")\n",
        "for i, label in enumerate(annotations):    \n",
        "      plt.annotate(label, (X[i], Y[i]))\n",
        "plt.show()"
      ],
      "execution_count": null,
      "outputs": [
        {
          "output_type": "display_data",
          "data": {
            "image/png": "[encoded data removed]",
            "text/plain": [
              "<Figure size 576x576 with 1 Axes>"
            ]
          },
          "metadata": {
            "tags": [],
            "needs_background": "light"
          }
        }
      ]
    },
    {
      "cell_type": "markdown",
      "metadata": {
        "id": "u8yGyVqwnqGP"
      },
      "source": [
        "# 新しいセクション"
      ]
    },
    {
      "cell_type": "markdown",
      "metadata": {
        "id": "1xAYtA555BJm"
      },
      "source": [
        "nework分析"
      ]
    },
    {
      "cell_type": "code",
      "metadata": {
        "id": "zcjlXKpG6rVP"
      },
      "source": [
        "import pandas as pd"
      ],
      "execution_count": 20,
      "outputs": []
    },
    {
      "cell_type": "code",
      "metadata": {
        "id": "qoWqw0FZyCb0",
        "colab": {
          "base_uri": "https://localhost:8080/",
          "height": 224
        },
        "outputId": "103231a6-dc4e-47d1-994c-b798ba09c1e4"
      },
      "source": [
        "runesu=pd.read_csv('/content/sample_data/florentine.csv')\n",
        "runesu.head()\n"
      ],
      "execution_count": 4,
      "outputs": [
        {
          "output_type": "execute_result",
          "data": {
            "text/html": [
              "<div>\n",
              "<style scoped>\n",
              "    .dataframe tbody tr th:only-of-type {\n",
              "        vertical-align: middle;\n",
              "    }\n",
              "\n",
              "    .dataframe tbody tr th {\n",
              "        vertical-align: top;\n",
              "    }\n",
              "\n",
              "    .dataframe thead th {\n",
              "        text-align: right;\n",
              "    }\n",
              "</style>\n",
              "<table border=\"1\" class=\"dataframe\">\n",
              "  <thead>\n",
              "    <tr style=\"text-align: right;\">\n",
              "      <th></th>\n",
              "      <th>FAMILY</th>\n",
              "      <th>ACCIAIUOL</th>\n",
              "      <th>ALBIZZI</th>\n",
              "      <th>BARBADORI</th>\n",
              "      <th>BISCHERI</th>\n",
              "      <th>CASTELLAN</th>\n",
              "      <th>GINORI</th>\n",
              "      <th>GUADAGNI</th>\n",
              "      <th>LAMBERTES</th>\n",
              "      <th>MEDICI</th>\n",
              "      <th>PAZZI</th>\n",
              "      <th>PERUZZI</th>\n",
              "      <th>PUCCI</th>\n",
              "      <th>RIDOLFI</th>\n",
              "      <th>SALVIATI</th>\n",
              "      <th>STROZZI</th>\n",
              "      <th>TORNABUON</th>\n",
              "    </tr>\n",
              "  </thead>\n",
              "  <tbody>\n",
              "    <tr>\n",
              "      <th>0</th>\n",
              "      <td>ACCIAIUOL</td>\n",
              "      <td>0</td>\n",
              "      <td>0</td>\n",
              "      <td>0</td>\n",
              "      <td>0</td>\n",
              "      <td>0</td>\n",
              "      <td>0</td>\n",
              "      <td>0</td>\n",
              "      <td>0</td>\n",
              "      <td>1</td>\n",
              "      <td>0</td>\n",
              "      <td>0</td>\n",
              "      <td>0</td>\n",
              "      <td>0</td>\n",
              "      <td>0</td>\n",
              "      <td>0</td>\n",
              "      <td>0</td>\n",
              "    </tr>\n",
              "    <tr>\n",
              "      <th>1</th>\n",
              "      <td>ALBIZZI</td>\n",
              "      <td>0</td>\n",
              "      <td>0</td>\n",
              "      <td>0</td>\n",
              "      <td>0</td>\n",
              "      <td>0</td>\n",
              "      <td>1</td>\n",
              "      <td>1</td>\n",
              "      <td>0</td>\n",
              "      <td>1</td>\n",
              "      <td>0</td>\n",
              "      <td>0</td>\n",
              "      <td>0</td>\n",
              "      <td>0</td>\n",
              "      <td>0</td>\n",
              "      <td>0</td>\n",
              "      <td>0</td>\n",
              "    </tr>\n",
              "    <tr>\n",
              "      <th>2</th>\n",
              "      <td>BARBADORI</td>\n",
              "      <td>0</td>\n",
              "      <td>0</td>\n",
              "      <td>0</td>\n",
              "      <td>0</td>\n",
              "      <td>1</td>\n",
              "      <td>0</td>\n",
              "      <td>0</td>\n",
              "      <td>0</td>\n",
              "      <td>1</td>\n",
              "      <td>0</td>\n",
              "      <td>0</td>\n",
              "      <td>0</td>\n",
              "      <td>0</td>\n",
              "      <td>0</td>\n",
              "      <td>0</td>\n",
              "      <td>0</td>\n",
              "    </tr>\n",
              "    <tr>\n",
              "      <th>3</th>\n",
              "      <td>BISCHERI</td>\n",
              "      <td>0</td>\n",
              "      <td>0</td>\n",
              "      <td>0</td>\n",
              "      <td>0</td>\n",
              "      <td>0</td>\n",
              "      <td>0</td>\n",
              "      <td>1</td>\n",
              "      <td>0</td>\n",
              "      <td>0</td>\n",
              "      <td>0</td>\n",
              "      <td>1</td>\n",
              "      <td>0</td>\n",
              "      <td>0</td>\n",
              "      <td>0</td>\n",
              "      <td>1</td>\n",
              "      <td>0</td>\n",
              "    </tr>\n",
              "    <tr>\n",
              "      <th>4</th>\n",
              "      <td>CASTELLAN</td>\n",
              "      <td>0</td>\n",
              "      <td>0</td>\n",
              "      <td>1</td>\n",
              "      <td>0</td>\n",
              "      <td>0</td>\n",
              "      <td>0</td>\n",
              "      <td>0</td>\n",
              "      <td>0</td>\n",
              "      <td>0</td>\n",
              "      <td>0</td>\n",
              "      <td>1</td>\n",
              "      <td>0</td>\n",
              "      <td>0</td>\n",
              "      <td>0</td>\n",
              "      <td>1</td>\n",
              "      <td>0</td>\n",
              "    </tr>\n",
              "  </tbody>\n",
              "</table>\n",
              "</div>"
            ],
            "text/plain": [
              "      FAMILY  ACCIAIUOL  ALBIZZI  ...  SALVIATI  STROZZI  TORNABUON\n",
              "0  ACCIAIUOL          0        0  ...         0        0          0\n",
              "1    ALBIZZI          0        0  ...         0        0          0\n",
              "2  BARBADORI          0        0  ...         0        0          0\n",
              "3   BISCHERI          0        0  ...         0        1          0\n",
              "4  CASTELLAN          0        0  ...         0        1          0\n",
              "\n",
              "[5 rows x 17 columns]"
            ]
          },
          "metadata": {
            "tags": []
          },
          "execution_count": 4
        }
      ]
    },
    {
      "cell_type": "code",
      "metadata": {
        "id": "n2TIilsOD0Sa"
      },
      "source": [
        "import networkx as nx "
      ],
      "execution_count": 21,
      "outputs": []
    },
    {
      "cell_type": "code",
      "metadata": {
        "id": "5_3lciWXdGHi"
      },
      "source": [
        "import matplotlib.pyplot as plt\n",
        "import networkx as nx"
      ],
      "execution_count": 23,
      "outputs": []
    },
    {
      "cell_type": "code",
      "metadata": {
        "id": "k_k5W41TjUKF"
      },
      "source": [
        "G = nx.Graph()"
      ],
      "execution_count": 24,
      "outputs": []
    },
    {
      "cell_type": "code",
      "metadata": {
        "id": "PPtnz1Wqjhgj"
      },
      "source": [
        "nod=range(0,15)\n",
        "e= [(3,5), (4,5), (5,10),(5,11),(5,13), (5,6) ] # list of edges\n",
        "G.add_nodes_from(nod)\n",
        "G = nx.Graph(e)\n",
        "e1=[(0,1),(0,2), (0,4),(1,4), (1,7),(1,2), (2,3),(3,6),(11,12), (13,14),(6,8),(8,13), (8,9),(13,14)]\n",
        "G.add_edges_from(e1)"
      ],
      "execution_count": 25,
      "outputs": []
    },
    {
      "cell_type": "code",
      "metadata": {
        "colab": {
          "base_uri": "https://localhost:8080/",
          "height": 265
        },
        "id": "uaDWoQnxj0J2",
        "outputId": "391bad96-a264-4aaf-ff0b-e87c15946242"
      },
      "source": [
        "pos=nx.spring_layout(G)\n",
        "nx.draw_networkx_nodes(G,pos)\n",
        "nx.draw_networkx_edges(G,pos,width=1.0,alpha=0.5)"
      ],
      "execution_count": 43,
      "outputs": [
        {
          "output_type": "execute_result",
          "data": {
            "text/plain": [
              "<matplotlib.collections.LineCollection at 0x7fa3bc489c50>"
            ]
          },
          "metadata": {
            "tags": []
          },
          "execution_count": 43
        },
        {
          "output_type": "display_data",
          "data": {
            "image/png": "[encoded data removed]",
            "text/plain": [
              "<Figure size 432x288 with 1 Axes>"
            ]
          },
          "metadata": {
            "tags": []
          }
        }
      ]
    },
    {
      "cell_type": "code",
      "metadata": {
        "id": "WAV0R6k3lF3-"
      },
      "source": [
        "labels={}\n",
        "labels[0]= 'Castellan'\n",
        "labels[1]='Peruzzi'\n",
        "labels[2]='Strozzi'\n",
        "labels[3]='Ridolfi'\n",
        "labels[4]='Barbadori'\n",
        "labels[5]='Medici'\n",
        "labels[6]='Tornabuorn'\n",
        "labels[7]='Bischeri'\n",
        "labels[8]='Guadagni'\n",
        "labels[9]='Lambertertes'\n",
        "labels[10]= 'Acciaiuol'\n",
        "labels[11]='Salviati'\n",
        "labels[12]='Pazzi'\n",
        "labels[13]='Albizzi'\n",
        "labels[14]='Ginori'"
      ],
      "execution_count": 41,
      "outputs": []
    },
    {
      "cell_type": "code",
      "metadata": {
        "colab": {
          "base_uri": "https://localhost:8080/",
          "height": 264
        },
        "id": "nMYedyyXlH0m",
        "outputId": "98a1aa6d-79b7-4df2-c3f1-08cc99793025"
      },
      "source": [
        "nx.draw_networkx_labels(G,pos,labels)\n",
        "nx.draw_networkx_nodes(G,pos)\n",
        "nx.draw_networkx_edges(G,pos,width=1.0,alpha=1.0)\n",
        "\n",
        "plt.axis('off')\n",
        "plt.title('Fifteen-century Florentine marriages network')    \n",
        "plt.show() "
      ],
      "execution_count": 46,
      "outputs": [
        {
          "output_type": "display_data",
          "data": {
            "image/png": "[encoded data removed]",
            "text/plain": [
              "<Figure size 432x288 with 1 Axes>"
            ]
          },
          "metadata": {
            "tags": []
          }
        }
      ]
    },
    {
      "cell_type": "markdown",
      "metadata": {
        "id": "9yUGQMHydPWZ"
      },
      "source": [
        ""
      ]
    }
  ]
}